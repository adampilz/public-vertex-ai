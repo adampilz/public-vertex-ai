{
 "cells": [
  {
   "cell_type": "code",
   "execution_count": null,
   "id": "d1539c25-698b-4213-a67c-dc9cf76d0442",
   "metadata": {},
   "outputs": [],
   "source": []
  },
  {
   "cell_type": "code",
   "execution_count": null,
   "id": "567c4667-cf99-47a7-8096-d0de0c7b2e97",
   "metadata": {},
   "outputs": [],
   "source": [
    "#####################################################################\n",
    "#\n",
    "#       aiplatform.CustomTrainingJob -> script_path\n",
    "#\n",
    "#####################################################################"
   ]
  },
  {
   "cell_type": "code",
   "execution_count": null,
   "id": "7afa12b4-189d-470b-9def-3b3d1befc326",
   "metadata": {},
   "outputs": [],
   "source": [
    "#####################################################################\n",
    "#\n",
    "# define the training script\n",
    "#\n",
    "#####################################################################"
   ]
  },
  {
   "cell_type": "code",
   "execution_count": null,
   "id": "9d2d9ef4-5787-43e5-86d5-59116db92c92",
   "metadata": {},
   "outputs": [],
   "source": [
    "%%writefile training_script.py\n",
    "\n",
    "import argparse, os, pickle\n",
    "import pandas as pd\n",
    "from sklearn.ensemble import GradientBoostingClassifier\n",
    "from google.cloud import storage\n",
    "\n",
    "# parse args\n",
    "parser = argparse.ArgumentParser()\n",
    "parser.add_argument('--bucket_name', dest='bucket_name', default=\"\", type=str, help='The GCS bucket to store model artifacts -> w/o gs://')\n",
    "parser.add_argument('--train_ds', dest='train_ds', default=\"\", type=str, help='file name of the training data')\n",
    "args = parser.parse_args()\n",
    "\n",
    "storage_client = storage.Client()\n",
    "\n",
    "#########################################################################\n",
    "# with CustomTrainingJob, FUSE is available, cant get write to work\n",
    "#########################################################################\n",
    "DATA_PATH = f\"/gcs/{args.bucket_name}\"\n",
    "TRAIN_PATH = os.path.join(DATA_PATH, args.train_ds)\n",
    "\n",
    "# load data from GCS using GCS fuse\n",
    "df = pd.read_csv(TRAIN_PATH)\n",
    "labels = df.pop(\"label\").tolist()\n",
    "data = df.values.tolist()\n",
    "\n",
    "# fit the model\n",
    "skmodel = GradientBoostingClassifier(n_estimators = 100, max_depth = 10, min_samples_split = 100, min_samples_leaf = 100)\n",
    "skmodel.fit(data, labels)\n",
    "\n",
    "# save model to GCS\n",
    "MODEL_SAVE_PATH = os.environ['AIP_MODEL_DIR']\n",
    "model_filename = \"model.pkl\"\n",
    "with open(model_filename, 'wb') as model_file:\n",
    "    pickle.dump(skmodel, model_file)\n",
    "\n",
    "storage_path = os.path.join(MODEL_SAVE_PATH, model_filename)\n",
    "blob = storage.blob.Blob.from_string(storage_path, client=storage_client)\n",
    "blob.upload_from_filename(model_filename)"
   ]
  },
  {
   "cell_type": "code",
   "execution_count": null,
   "id": "5337cc1a-5363-4b80-b2fb-ef715678b44a",
   "metadata": {},
   "outputs": [],
   "source": [
    "#####################################################################\n",
    "#\n",
    "# kick off the custom training job\n",
    "#\n",
    "#####################################################################"
   ]
  },
  {
   "cell_type": "code",
   "execution_count": null,
   "id": "4c85eb3e-a729-4a04-b474-084cb0c97a39",
   "metadata": {},
   "outputs": [],
   "source": [
    "from google.cloud import aiplatform\n",
    "from datetime import datetime"
   ]
  },
  {
   "cell_type": "code",
   "execution_count": null,
   "id": "fd2e0c5e-379f-419b-b508-aee8601ac572",
   "metadata": {},
   "outputs": [],
   "source": [
    "# specify parameters\n",
    "P = ! gcloud config list --format 'value(core.project)'\n",
    "PROJECT_ID = P[0]\n",
    "REGION = \"us-central1\"\n",
    "\n",
    "SERVICE_ACCOUNT = f\"sa-vertex-pipelines@{PROJECT_ID}.iam.gserviceaccount.com\"\n",
    "NETWORK = \"vpc-adam-default\"\n",
    "\n",
    "USE_CASE = \"custom-training\"\n",
    "ML_FRAMEWORK = \"scikit\"\n",
    "MODEL_TYPE = \"binclass\"\n",
    "TIMESTAMP = datetime.now().strftime(\"%Y%m%d%H%M%S\")\n",
    "\n",
    "# GCS inputs\n",
    "GCS_BUCKET_NAME = f\"bkt-{REGION}-{USE_CASE}\"\n",
    "GCS_BUCKET_PATH = f\"gs://{GCS_BUCKET_NAME}\"\n",
    "GCS_BUCKET_PATH_DATA = f\"{GCS_BUCKET_PATH}/data\"\n",
    "GCS_BUCKET_PATH_CONFIGS = f\"{GCS_BUCKET_PATH}/configs\"\n",
    "GCS_BUCKET_PATH_TMP = f\"{GCS_BUCKET_PATH}/tmp\"\n",
    "GCS_BUCKET_PATH_STAGING = f\"{GCS_BUCKET_PATH}/staging\"\n",
    "\n",
    "TRAIN_DS = \"tab_class_10inps_1krows_tes_3498.csv\""
   ]
  },
  {
   "cell_type": "code",
   "execution_count": null,
   "id": "77613083-3655-42d6-94f7-d409c586dcdc",
   "metadata": {},
   "outputs": [],
   "source": [
    "TRAIN_VERSION  = \"scikit-learn-cpu.0-23\"\n",
    "DEPLOY_VERSION = \"sklearn-cpu.0-23\"\n",
    "\n",
    "TRAIN_IMAGE = \"us-docker.pkg.dev/vertex-ai/training/{}:latest\".format(TRAIN_VERSION)\n",
    "DEPLOY_IMAGE = \"us-docker.pkg.dev/vertex-ai/prediction/{}:latest\".format(DEPLOY_VERSION)\n",
    "\n",
    "JOB_NAME = \"vai_CustomTrainingJob\"\n",
    "\n",
    "CMDARGS = [f\"--bucket_name={GCS_BUCKET_NAME}\", f\"--train_ds={TRAIN_DS}\"]"
   ]
  },
  {
   "cell_type": "code",
   "execution_count": null,
   "id": "5e6cb57e-7545-406e-9624-072b162d8b6a",
   "metadata": {},
   "outputs": [],
   "source": [
    "aiplatform.init(project=PROJECT_ID, location=REGION)\n",
    "\n",
    "job = aiplatform.CustomTrainingJob(\n",
    "    display_name = JOB_NAME\n",
    "    , project = PROJECT_ID\n",
    "    , location = REGION\n",
    "    , staging_bucket = GCS_BUCKET_PATH\n",
    "    , script_path = \"training_script.py\"\n",
    "    , container_uri = TRAIN_IMAGE\n",
    "    , requirements = [\"gcsfs\"]\n",
    "    , model_serving_container_image_uri = DEPLOY_IMAGE\n",
    ")\n",
    "\n",
    "MODEL_DISPLAY_NAME = \"model_mymodel\"#\"vai_model_registry_name\"\n",
    "\n",
    "# Start the training\n",
    "model = job.run(\n",
    "    model_display_name = MODEL_DISPLAY_NAME\n",
    "    , args = CMDARGS\n",
    "    , replica_count = 1\n",
    "    , service_account = f\"sa-vertex-pipelines@{PROJECT_ID}.iam.gserviceaccount.com\"\n",
    ")"
   ]
  },
  {
   "cell_type": "code",
   "execution_count": null,
   "id": "a3abdad3-ad59-47dd-87e1-f29901cf2d5a",
   "metadata": {},
   "outputs": [],
   "source": [
    "dir(model)"
   ]
  }
 ],
 "metadata": {
  "environment": {
   "kernel": "python3",
   "name": "common-cpu.m102",
   "type": "gcloud",
   "uri": "gcr.io/deeplearning-platform-release/base-cpu:m102"
  },
  "kernelspec": {
   "display_name": "Python 3",
   "language": "python",
   "name": "python3"
  },
  "language_info": {
   "codemirror_mode": {
    "name": "ipython",
    "version": 3
   },
   "file_extension": ".py",
   "mimetype": "text/x-python",
   "name": "python",
   "nbconvert_exporter": "python",
   "pygments_lexer": "ipython3",
   "version": "3.7.12"
  }
 },
 "nbformat": 4,
 "nbformat_minor": 5
}
