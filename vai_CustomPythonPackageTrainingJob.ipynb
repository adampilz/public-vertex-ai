{
 "cells": [
  {
   "cell_type": "code",
   "execution_count": null,
   "id": "7e8c36ad-ff69-4cdf-9d64-5bc32e667500",
   "metadata": {},
   "outputs": [],
   "source": []
  },
  {
   "cell_type": "code",
   "execution_count": null,
   "id": "1ef69f84-1428-4c79-b3ba-1ed666b129f1",
   "metadata": {},
   "outputs": [],
   "source": [
    "#####################################################################\n",
    "#\n",
    "#   aiplatform.CustomPythonPackageTrainingJob -> python application\n",
    "#\n",
    "# https://github.com/GoogleCloudPlatform/vertex-ai-samples/blob/main/notebooks/community/ml_ops/stage2/get_started_vertex_training.ipynb\n",
    "#\n",
    "#####################################################################"
   ]
  },
  {
   "cell_type": "code",
   "execution_count": null,
   "id": "9a558fcf-192c-44ae-b883-93e697f97045",
   "metadata": {},
   "outputs": [],
   "source": [
    "#####################################################################\n",
    "#\n",
    "# create python application structure\n",
    "#\n",
    "#####################################################################"
   ]
  },
  {
   "cell_type": "code",
   "execution_count": null,
   "id": "955f5b64-4390-48c0-b4df-e9a667f5de15",
   "metadata": {},
   "outputs": [],
   "source": [
    "! mkdir -p mytrainingpackage/trainer"
   ]
  },
  {
   "cell_type": "code",
   "execution_count": null,
   "id": "08d87ade-7131-4a9d-86c1-301434c89dc0",
   "metadata": {},
   "outputs": [],
   "source": [
    "#-------------------\n",
    "# setup.py\n",
    "#-------------------"
   ]
  },
  {
   "cell_type": "code",
   "execution_count": null,
   "id": "3ca6f2e4-e343-449f-8ce6-ec2a9a75a33a",
   "metadata": {},
   "outputs": [],
   "source": [
    "%%writefile mytrainingpackage/setup.py\n",
    "\n",
    "from setuptools import find_packages\n",
    "from setuptools import setup\n",
    "\n",
    "REQUIRED_PACKAGES = [\"gcsfs\", \"google-cloud-aiplatform\"]\n",
    "\n",
    "setup(\n",
    "    name = 'trainer',\n",
    "    version = '0.1',\n",
    "    packages = find_packages(),\n",
    "    install_requires = REQUIRED_PACKAGES,\n",
    "    include_package_data = True,\n",
    "    description = 'My training application.'\n",
    ")"
   ]
  },
  {
   "cell_type": "code",
   "execution_count": null,
   "id": "ab6cdbfa-fd84-43a6-bae9-fed6f47c342c",
   "metadata": {},
   "outputs": [],
   "source": [
    "#-------------------\n",
    "# setup.cfg\n",
    "#-------------------"
   ]
  },
  {
   "cell_type": "code",
   "execution_count": null,
   "id": "f9c48ad0-d9a7-4b58-ac76-0f5b6d0715c3",
   "metadata": {},
   "outputs": [],
   "source": [
    "%%writefile mytrainingpackage/setup.cfg\n",
    "\n",
    "[egg_info]\n",
    "\n",
    "tag_build =\n",
    "\n",
    "tag_date = 0"
   ]
  },
  {
   "cell_type": "code",
   "execution_count": null,
   "id": "3e1654b5-f628-44f4-895e-85daffed2a2a",
   "metadata": {},
   "outputs": [],
   "source": [
    "#-------------------\n",
    "# PKG-INFO\n",
    "#-------------------"
   ]
  },
  {
   "cell_type": "code",
   "execution_count": null,
   "id": "51489824-9d28-4992-ad74-e33d9a779bbd",
   "metadata": {},
   "outputs": [],
   "source": [
    "%%writefile mytrainingpackage/PKG-INFO\n",
    "\n",
    "Metadata-Version: 1.0\n",
    "\n",
    "Name: model training\n",
    "\n",
    "Version: 0.0.1\n",
    "\n",
    "Summary: Demostration training script\n",
    "\n",
    "Author-email: adampilz@google.com\n",
    "\n",
    "License: Public\n",
    "\n",
    "Description: Demo\n",
    "\n",
    "Platform: Vertex"
   ]
  },
  {
   "cell_type": "code",
   "execution_count": null,
   "id": "5b63a321-0523-4621-a1e3-982967f7b697",
   "metadata": {},
   "outputs": [],
   "source": [
    "#-------------------\n",
    "# README.txt\n",
    "#-------------------"
   ]
  },
  {
   "cell_type": "code",
   "execution_count": null,
   "id": "504f2378-705f-464e-bb11-435771f103d3",
   "metadata": {},
   "outputs": [],
   "source": [
    "%%writefile mytrainingpackage/README.txt\n",
    "\n",
    "# Example Package\n",
    "\n",
    "This is an example package."
   ]
  },
  {
   "cell_type": "code",
   "execution_count": null,
   "id": "8c690012-d224-47ba-a978-7e1bee1af2a5",
   "metadata": {},
   "outputs": [],
   "source": [
    "#-------------------\n",
    "# __init__.py\n",
    "#-------------------"
   ]
  },
  {
   "cell_type": "code",
   "execution_count": null,
   "id": "9f830443-fefe-494f-8541-373cb76bf772",
   "metadata": {},
   "outputs": [],
   "source": [
    "! touch mytrainingpackage/trainer/__init__.py"
   ]
  },
  {
   "cell_type": "code",
   "execution_count": null,
   "id": "8232acb4-49d8-44e6-8d9e-b580d7dbd534",
   "metadata": {},
   "outputs": [],
   "source": [
    "#-------------------\n",
    "# task.py\n",
    "#-------------------"
   ]
  },
  {
   "cell_type": "code",
   "execution_count": null,
   "id": "74c33595-257e-4d43-9c33-b142e18d137c",
   "metadata": {},
   "outputs": [],
   "source": [
    "%%writefile mytrainingpackage/trainer/task.py\n",
    "\n",
    "import argparse\n",
    "import pickle\n",
    "import os\n",
    "\n",
    "# Sample Decision Tree Classifier\n",
    "from sklearn import datasets\n",
    "from sklearn import metrics\n",
    "from sklearn.tree import DecisionTreeClassifier\n",
    "\n",
    "from google.cloud import storage\n",
    "\n",
    "# parse args\n",
    "parser = argparse.ArgumentParser()\n",
    "parser.add_argument('--bucket_name', dest='bucket_name', default=\"\", type=str, help='The GCS bucket to store model artifacts -> w/o gs://')\n",
    "parser.add_argument('--max_depth', dest='max_depth', default=10, type=int, help='The maximum depth of the tree')\n",
    "args = parser.parse_args()\n",
    "\n",
    "# load the iris datasets\n",
    "dataset = datasets.load_iris()\n",
    "\n",
    "# fit a CART model to the data\n",
    "model = DecisionTreeClassifier(max_depth = args.max_depth)\n",
    "model.fit(dataset.data, dataset.target)\n",
    "print(model)\n",
    "\n",
    "# make predictions\n",
    "expected = dataset.target\n",
    "predicted = model.predict(dataset.data)\n",
    "\n",
    "# summarize the fit of the model\n",
    "classification_report = metrics.classification_report(expected, predicted)\n",
    "confusion_matrix = metrics.confusion_matrix(expected, predicted)\n",
    "\n",
    "# save the model to disk\n",
    "model_filename = \"model.pkl\"\n",
    "with open(model_filename, 'wb') as model_file:\n",
    "    pickle.dump(model, model_file)\n",
    "\n",
    "# Upload the saved model file to GCS\n",
    "storage_client = storage.Client()\n",
    "bucket = storage_client.get_bucket(args.bucket_name)\n",
    "model_directory = os.environ[\"AIP_MODEL_DIR\"]\n",
    "storage_path = os.path.join(model_directory, model_filename)\n",
    "blob = storage.blob.Blob.from_string(storage_path, client=storage_client)\n",
    "blob.upload_from_filename(model_filename)"
   ]
  },
  {
   "cell_type": "code",
   "execution_count": null,
   "id": "8fe606d8-afb1-404f-8bd6-9fc4893ab214",
   "metadata": {},
   "outputs": [],
   "source": [
    "#####################################################################\n",
    "#\n",
    "# upload and kick off the job\n",
    "#\n",
    "#####################################################################"
   ]
  },
  {
   "cell_type": "code",
   "execution_count": null,
   "id": "464260cf-bf5a-4545-a426-1d5affa8b310",
   "metadata": {},
   "outputs": [],
   "source": [
    "# package the training folder into a compressed tar ball\n",
    "! rm -f mytrainingpackage.tar mytrainingpackage.tar.gz\n",
    "! tar cvf mytrainingpackage.tar mytrainingpackage\n",
    "! gzip mytrainingpackage.tar"
   ]
  },
  {
   "cell_type": "code",
   "execution_count": null,
   "id": "f2c1e393-6f3e-4ffd-b2a2-8de63a64f794",
   "metadata": {},
   "outputs": [],
   "source": [
    "# Store training script on your Cloud Storage bucket\n",
    "! gsutil cp mytrainingpackage.tar.gz $BUCKET_PATH/custompackagetesting/mytrainingpackage.tar.gz"
   ]
  },
  {
   "cell_type": "code",
   "execution_count": null,
   "id": "ceb06298-a4cd-4539-9a33-fded7be8964d",
   "metadata": {},
   "outputs": [],
   "source": [
    "#####################################################################\n",
    "#\n",
    "# save dist to GCS then to artifact registry\n",
    "#\n",
    "#####################################################################"
   ]
  },
  {
   "cell_type": "code",
   "execution_count": null,
   "id": "11fbc429-7851-4b77-acfc-0ff16b97102d",
   "metadata": {},
   "outputs": [],
   "source": [
    "from google.cloud import aiplatform\n",
    "from datetime import datetime"
   ]
  },
  {
   "cell_type": "code",
   "execution_count": null,
   "id": "c3ae3b06-8c89-4836-9e2c-483e12df16c5",
   "metadata": {},
   "outputs": [],
   "source": [
    "# specify parameters\n",
    "P = ! gcloud config list --format 'value(core.project)'\n",
    "PROJECT_ID = P[0]\n",
    "REGION = \"us-central1\"\n",
    "BUCKET_NAME = f\"bkt-{PROJECT_ID}-vpipelines\"\n",
    "BUCKET_PATH = f\"gs://{BUCKET_NAME}\"\n",
    "PIPELINE_ROOT = f\"{BUCKET_PATH}/pipeline_root\"\n",
    "PIPELINE_DATA = f\"{BUCKET_PATH}/data\"\n",
    "TIMESTAMP = datetime.now().strftime(\"%Y%m%d%H%M%S\")"
   ]
  },
  {
   "cell_type": "code",
   "execution_count": null,
   "id": "c1a76b8b-c640-42bb-b84b-94acb851cd1e",
   "metadata": {},
   "outputs": [],
   "source": [
    "TRAIN_VERSION  = \"scikit-learn-cpu.0-23\"\n",
    "DEPLOY_VERSION = \"sklearn-cpu.0-23\"\n",
    "\n",
    "TRAIN_IMAGE = \"us-docker.pkg.dev/vertex-ai/training/{}:latest\".format(TRAIN_VERSION)\n",
    "DEPLOY_IMAGE = \"us-docker.pkg.dev/vertex-ai/prediction/{}:latest\".format(DEPLOY_VERSION)"
   ]
  },
  {
   "cell_type": "code",
   "execution_count": null,
   "id": "97a3a155-074e-41f5-a393-87e77c92ce51",
   "metadata": {},
   "outputs": [],
   "source": [
    "JOB_DISPLAY_NAME = \"vai_CustomPythonPackageTrainingJob\"\n",
    "PYTHON_PACKAGE_GCS_URI = f\"{BUCKET_PATH}/custompackagetesting/mytrainingpackage.tar.gz\"\n",
    "PYTHON_MODULE_NAME = \"trainer.task\" # https://cloud.google.com/vertex-ai/docs/training/create-python-pre-built-container#python-modules\n",
    "\n",
    "MAX_DEPTH = 20\n",
    "CMDARGS = [  f\"--bucket_name={BUCKET_NAME}\"\n",
    "           , f\"--max_depth={str(MAX_DEPTH)}\"\n",
    "          ]\n",
    "\n",
    "MODEL_DISPLAY_NAME = \"vai_ModelRegName_CustomPythonPackageTrainingJob\""
   ]
  },
  {
   "cell_type": "code",
   "execution_count": null,
   "id": "6566ea05-b61e-42cc-b793-f0e6b6b390dc",
   "metadata": {},
   "outputs": [],
   "source": [
    "aiplatform.init(project=PROJECT_ID, location=REGION, staging_bucket=BUCKET_PATH)\n",
    "\n",
    "job = aiplatform.CustomPythonPackageTrainingJob(\n",
    "    display_name = JOB_DISPLAY_NAME\n",
    "    , python_package_gcs_uri = PYTHON_PACKAGE_GCS_URI\n",
    "    , python_module_name = PYTHON_MODULE_NAME\n",
    "    , container_uri = TRAIN_IMAGE\n",
    "    , model_serving_container_image_uri = DEPLOY_IMAGE\n",
    ")"
   ]
  },
  {
   "cell_type": "code",
   "execution_count": null,
   "id": "b8811bf6-de04-473f-97fe-624d21410ea4",
   "metadata": {},
   "outputs": [],
   "source": [
    "model = job.run(\n",
    "    model_display_name = MODEL_DISPLAY_NAME\n",
    "    , args = CMDARGS\n",
    "    , replica_count = 1\n",
    "    , machine_type = \"n1-standard-4\"\n",
    "    , service_account = f\"sa-vertex-pipelines@{PROJECT_ID}.iam.gserviceaccount.com\"\n",
    ")"
   ]
  },
  {
   "cell_type": "code",
   "execution_count": null,
   "id": "22d4c50f-8c93-4de4-a5ae-eb378bf7f1a9",
   "metadata": {},
   "outputs": [],
   "source": []
  }
 ],
 "metadata": {
  "kernelspec": {
   "display_name": "Python 3 (Local)",
   "language": "python",
   "name": "local-python3"
  },
  "language_info": {
   "codemirror_mode": {
    "name": "ipython",
    "version": 3
   },
   "file_extension": ".py",
   "mimetype": "text/x-python",
   "name": "python",
   "nbconvert_exporter": "python",
   "pygments_lexer": "ipython3",
   "version": "3.7.12"
  }
 },
 "nbformat": 4,
 "nbformat_minor": 5
}
