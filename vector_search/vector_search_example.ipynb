{
 "cells": [
  {
   "cell_type": "code",
   "execution_count": null,
   "id": "fbee55b4-b278-4943-9ebe-3688205e136a",
   "metadata": {},
   "outputs": [],
   "source": []
  },
  {
   "cell_type": "code",
   "execution_count": null,
   "id": "bb7b8799-5e77-4131-b6d0-03a0492e0651",
   "metadata": {},
   "outputs": [],
   "source": [
    "import csv"
   ]
  },
  {
   "cell_type": "code",
   "execution_count": 1,
   "id": "2159ba2c-b750-4be7-814a-a7584f81b155",
   "metadata": {
    "tags": []
   },
   "outputs": [],
   "source": [
    "def write_embeddings_to_csv(embeddings_info, file_name='embeddings.csv'):\n",
    "    with open(file_name, mode='w', newline='', encoding='utf-8') as file:\n",
    "        writer = csv.writer(file)\n",
    "        \n",
    "        # Write each item in embeddings_info to the CSV\n",
    "        for item in embeddings_info:\n",
    "            for entry in item:\n",
    "                row = [entry[\"id\"]] + entry[\"embeddings\"] + [entry[\"additional_fields\"]]\n",
    "                writer.writerow(row)"
   ]
  },
  {
   "cell_type": "code",
   "execution_count": null,
   "id": "e6968207-526f-4b10-bfff-3725d4d09372",
   "metadata": {},
   "outputs": [],
   "source": [
    "# Example usage\n",
    "embeddings_info = [\n",
    "    [{\"id\":\"1\", \"embeddings\":[0.016, -0.026, -0.025], \"additional_fields\":\"crowding_tag=test\"}],\n",
    "    [{\"id\":\"2\", \"embeddings\":[0.036, 0.034, 0.005], \"additional_fields\":\"crowding_tag=prod\"}]\n",
    "]\n",
    "\n",
    "embedding_file_name = 'embeddings_output.csv'\n",
    "write_embeddings_to_csv(embeddings_info, embedding_file_name)"
   ]
  },
  {
   "cell_type": "code",
   "execution_count": 3,
   "id": "28069199-1dc7-466c-93e3-7e7691b18c88",
   "metadata": {
    "tags": []
   },
   "outputs": [],
   "source": [
    "BUCKET_NAME = \"your_gcs_bucket_name_here\""
   ]
  },
  {
   "cell_type": "code",
   "execution_count": null,
   "id": "a2b7add4-a0c0-4a27-b24e-2433df85a0a4",
   "metadata": {
    "tags": []
   },
   "outputs": [],
   "source": [
    "gcs_uri = f\"gs://{BUCKET_NAME}/batch_root/{embedding_file_name}\"\n",
    "! gsutil cp {embedding_file_name} {gcs_uri}"
   ]
  }
 ],
 "metadata": {
  "environment": {
   "kernel": "conda-base-py",
   "name": "workbench-notebooks.m120",
   "type": "gcloud",
   "uri": "us-docker.pkg.dev/deeplearning-platform-release/gcr.io/workbench-notebooks:m120"
  },
  "kernelspec": {
   "display_name": "Python 3 (ipykernel) (Local) (Local)",
   "language": "python",
   "name": "conda-base-py"
  },
  "language_info": {
   "codemirror_mode": {
    "name": "ipython",
    "version": 3
   },
   "file_extension": ".py",
   "mimetype": "text/x-python",
   "name": "python",
   "nbconvert_exporter": "python",
   "pygments_lexer": "ipython3",
   "version": "3.10.14"
  }
 },
 "nbformat": 4,
 "nbformat_minor": 5
}
