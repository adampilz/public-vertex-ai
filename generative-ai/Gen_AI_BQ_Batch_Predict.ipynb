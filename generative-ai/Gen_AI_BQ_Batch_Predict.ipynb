{
 "cells": [
  {
   "cell_type": "code",
   "execution_count": null,
   "id": "bb2a26f8-e5aa-4c53-85f9-0f4de0f2bd0d",
   "metadata": {},
   "outputs": [],
   "source": [
    "# install / update\n",
    "! pip install google.cloud.aiplatform -U -q --user"
   ]
  },
  {
   "cell_type": "code",
   "execution_count": null,
   "id": "3f4da8bc-3653-4722-9530-43b6dfe6d948",
   "metadata": {},
   "outputs": [],
   "source": [
    "# RESTART the kernel if this was needed.  In the menu bar \"Kernel\" -> \"Restart Kernel\""
   ]
  },
  {
   "cell_type": "code",
   "execution_count": 1,
   "id": "b2d3ab42-a068-4100-acc7-fa0b5af28fa0",
   "metadata": {},
   "outputs": [],
   "source": [
    "from vertexai.preview.language_models import TextGenerationModel"
   ]
  },
  {
   "cell_type": "code",
   "execution_count": null,
   "id": "d9f9efef-3110-45b9-bace-9b91cd3e051e",
   "metadata": {},
   "outputs": [],
   "source": [
    "P = ! gcloud config list --format 'value(core.project)'\n",
    "PROJECT_ID = P[0]\n",
    "BQ_DATASET = \"ds_central1\"\n",
    "BQ_TABLE = \"genai\"\n",
    "PROJECT_ID"
   ]
  },
  {
   "cell_type": "code",
   "execution_count": null,
   "id": "ee635182-ff0f-4750-a05a-8495b50d5cea",
   "metadata": {},
   "outputs": [],
   "source": [
    "# make batch predict job\n",
    "text_model = TextGenerationModel.from_pretrained(\"text-bison\")\n",
    "batch_prediction_job = text_model.batch_predict(\n",
    "  source_uri = f\"bq://{PROJECT_ID}.{BQ_DATASET}.{BQ_TABLE}\",\n",
    "  destination_uri_prefix = f\"bq://{PROJECT_ID}.{BQ_DATASET}.{BQ_TABLE}_output2\",\n",
    "  # Optional:\n",
    "  model_parameters={\n",
    "      \"maxOutputTokens\": \"200\",\n",
    "      \"temperature\": \"0.2\",\n",
    "      \"topP\": \"0.95\",\n",
    "      \"topK\": \"40\",\n",
    "  },\n",
    ")\n",
    "print(batch_prediction_job.display_name)\n",
    "print(batch_prediction_job.resource_name)\n",
    "print(batch_prediction_job.state)"
   ]
  }
 ],
 "metadata": {
  "environment": {
   "kernel": "python3",
   "name": "common-cpu.m109",
   "type": "gcloud",
   "uri": "gcr.io/deeplearning-platform-release/base-cpu:m109"
  },
  "kernelspec": {
   "display_name": "Python 3",
   "language": "python",
   "name": "python3"
  },
  "language_info": {
   "codemirror_mode": {
    "name": "ipython",
    "version": 3
   },
   "file_extension": ".py",
   "mimetype": "text/x-python",
   "name": "python",
   "nbconvert_exporter": "python",
   "pygments_lexer": "ipython3",
   "version": "3.10.11"
  }
 },
 "nbformat": 4,
 "nbformat_minor": 5
}
