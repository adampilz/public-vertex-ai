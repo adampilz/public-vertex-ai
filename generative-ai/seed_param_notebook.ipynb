{
 "cells": [
  {
   "cell_type": "code",
   "execution_count": null,
   "id": "a2915048-53b7-4a45-89f4-40dcd93a7756",
   "metadata": {},
   "outputs": [],
   "source": []
  },
  {
   "cell_type": "code",
   "execution_count": null,
   "id": "bf8c02c5-f43f-486b-be30-57aebebe9510",
   "metadata": {},
   "outputs": [],
   "source": [
    "# The first time you use this notebook, you will need to run this and then restart the kernal.\n",
    "# Restarting the kernel is easy.  At the top bar, click \"Kernel, then \"Restart Kernel\". Then wait about 5 seconds."
   ]
  },
  {
   "cell_type": "code",
   "execution_count": null,
   "id": "27e7dcaf-1dd3-428b-983c-6c421e445424",
   "metadata": {
    "tags": []
   },
   "outputs": [],
   "source": [
    "! pip install -U -q --user google-cloud-aiplatform"
   ]
  },
  {
   "cell_type": "code",
   "execution_count": 4,
   "id": "9bc01113-d4ee-424b-a3e7-e98137b9b90b",
   "metadata": {
    "tags": []
   },
   "outputs": [],
   "source": [
    "# for Gemini models\n",
    "import vertexai\n",
    "\n",
    "# preview is needed here for the seed parameter below\n",
    "from vertexai.preview.generative_models import (\n",
    "    GenerationConfig,\n",
    "    GenerativeModel,\n",
    "    HarmBlockThreshold,\n",
    "    HarmCategory,\n",
    "    Part,\n",
    ")"
   ]
  },
  {
   "cell_type": "code",
   "execution_count": 5,
   "id": "119577cb-b9ba-477b-8fc8-3b073abea7b5",
   "metadata": {
    "tags": []
   },
   "outputs": [],
   "source": [
    "# set some parameters\n",
    "P = ! gcloud config list --format 'value(core.project)'\n",
    "PROJECT_ID = P[0]\n",
    "REGION = \"us-central1\"\n",
    "PROJECT_ID"
   ]
  },
  {
   "cell_type": "code",
   "execution_count": 6,
   "id": "0d5e995a-6e57-48de-9a5b-6b9939857952",
   "metadata": {
    "tags": []
   },
   "outputs": [],
   "source": [
    "######################################################################################\n",
    "#\n",
    "# Model Setup\n",
    "#\n",
    "######################################################################################"
   ]
  },
  {
   "cell_type": "code",
   "execution_count": 7,
   "id": "4899eae3-718a-4547-b690-817dbb4a9b72",
   "metadata": {
    "tags": []
   },
   "outputs": [],
   "source": [
    "# set gemini models parameters\n",
    "generation_config = {\n",
    "    \"temperature\": 1\n",
    "    , \"top_p\": 0.95\n",
    "    , \"max_output_tokens\": 8192\n",
    "    #####################################################\n",
    "    # this is the parameter that helps with consistency \n",
    "    #####################################################\n",
    "    , \"seed\": 54321   \n",
    "}\n",
    "\n",
    "safety_settings = {\n",
    "    HarmCategory.HARM_CATEGORY_HATE_SPEECH: HarmBlockThreshold.BLOCK_NONE,\n",
    "    HarmCategory.HARM_CATEGORY_DANGEROUS_CONTENT: HarmBlockThreshold.BLOCK_NONE,\n",
    "    HarmCategory.HARM_CATEGORY_SEXUALLY_EXPLICIT: HarmBlockThreshold.BLOCK_NONE,\n",
    "    HarmCategory.HARM_CATEGORY_HARASSMENT: HarmBlockThreshold.BLOCK_NONE,\n",
    "}\n",
    "\n",
    "gemini_params = {\n",
    "    \"generation_config\": generation_config,\n",
    "    \"safety_settings\": safety_settings,\n",
    "}"
   ]
  },
  {
   "cell_type": "code",
   "execution_count": 8,
   "id": "22371823-8b0b-401c-a58e-486b6a4fcccd",
   "metadata": {
    "tags": []
   },
   "outputs": [],
   "source": [
    "# define the LLM model to use\n",
    "model_name = \"gemini-1.5-pro-001\" # \"gemini-1.5-flash-preview-0514\"\n",
    "\n",
    "# persona\n",
    "system_instruction = \"You are a medical supply subject matter expert.\"\n",
    "\n",
    "# instantiate the model\n",
    "model = GenerativeModel(model_name, system_instruction = [system_instruction])"
   ]
  },
  {
   "cell_type": "code",
   "execution_count": 9,
   "id": "a270a981-9e92-4187-a6b0-9679ff03e088",
   "metadata": {
    "tags": []
   },
   "outputs": [],
   "source": [
    "######################################################################################\n",
    "#\n",
    "# prompt generation\n",
    "#\n",
    "######################################################################################"
   ]
  },
  {
   "cell_type": "code",
   "execution_count": 10,
   "id": "97dbf027-29ca-4615-b047-e73ffde7f287",
   "metadata": {
    "tags": []
   },
   "outputs": [],
   "source": [
    "prompt = \"Tell me about different types of bandages.\""
   ]
  },
  {
   "cell_type": "code",
   "execution_count": 11,
   "id": "80a64f62-ba9b-4c6d-852b-68a1c5cb6c59",
   "metadata": {
    "tags": []
   },
   "outputs": [],
   "source": [
    "response = model.generate_content(prompt, **gemini_params)"
   ]
  },
  {
   "cell_type": "code",
   "execution_count": 12,
   "id": "e4094516-cbc8-4f7b-a43b-29aa36a42452",
   "metadata": {
    "tags": []
   },
   "outputs": [
    {
     "name": "stdout",
     "output_type": "stream",
     "text": [
      "## Different Types of Bandages: A Helpful Guide \n",
      "\n",
      "Bandages come in all shapes, sizes, and materials to suit a variety of needs. Here's a breakdown of common types:\n",
      "\n",
      "**By Material:**\n",
      "\n",
      "* **Adhesive Bandages (Band-Aids):** These are the everyday heroes for minor cuts and scrapes. They come in various sizes, shapes, and even fun designs for kids. Some are waterproof and some contain antiseptics.\n",
      "* **Gauze Bandages:** The workhorse of wound care. They're breathable, absorbent, and ideal for covering larger wounds, securing dressings, and padding injuries. \n",
      "* **Compression Bandages:** These elastic bandages provide support and compression to sprains, strains, and swelling. Common examples include ACE bandages and tubular bandages.\n",
      "* **Triangular Bandages:** These versatile, triangular-shaped cloths are used for slings, immobilizing limbs, applying pressure to wounds, and even as a makeshift tourniquet.\n",
      "* **Liquid Bandages:** This liquid adhesive forms a waterproof, antibacterial barrier over minor cuts and scrapes, making them ideal for hard-to-cover areas like knuckles or fingertips.\n",
      "\n",
      "**By Function:**\n",
      "\n",
      "* **Hemostatic Bandages:** Impregnated with clotting agents, these bandages are designed to control severe bleeding quickly.\n",
      "* **Hydrocolloid Bandages:** These waterproof bandages create a moist environment over wounds, promoting faster healing and minimizing scarring. They're excellent for burns and blisters.\n",
      "* **Transparent Film Dressings:** These thin, transparent dressings protect wounds from friction and bacteria while allowing you to monitor healing.\n",
      "\n",
      "**Things to consider when choosing a bandage:**\n",
      "\n",
      "* **Size and shape of the wound:** Ensure the bandage completely covers the wound.\n",
      "* **Level of exudate (drainage):** Highly absorbent bandages are best for wounds with a lot of drainage.\n",
      "* **Location of the wound:** Flexible bandages are ideal for joints, while waterproof bandages are suitable for hands and feet.\n",
      "* **Presence of infection:** Consult a healthcare professional for infected wounds as they may require specialized dressings.\n",
      "\n",
      "**Remember:** This is just a general overview.  Always follow the instructions provided with the bandage and consult a healthcare professional for any serious injuries or concerns. \n",
      "\n"
     ]
    }
   ],
   "source": [
    "print(response.text)"
   ]
  },
  {
   "cell_type": "code",
   "execution_count": null,
   "id": "c0b9b6fa-4b09-40ab-8534-f61223f92461",
   "metadata": {},
   "outputs": [],
   "source": []
  }
 ],
 "metadata": {
  "environment": {
   "kernel": "conda-base-py",
   "name": "workbench-notebooks.m120",
   "type": "gcloud",
   "uri": "us-docker.pkg.dev/deeplearning-platform-release/gcr.io/workbench-notebooks:m120"
  },
  "kernelspec": {
   "display_name": "Python 3 (ipykernel) (Local) (Local)",
   "language": "python",
   "name": "conda-base-py"
  },
  "language_info": {
   "codemirror_mode": {
    "name": "ipython",
    "version": 3
   },
   "file_extension": ".py",
   "mimetype": "text/x-python",
   "name": "python",
   "nbconvert_exporter": "python",
   "pygments_lexer": "ipython3",
   "version": "3.10.14"
  }
 },
 "nbformat": 4,
 "nbformat_minor": 5
}
