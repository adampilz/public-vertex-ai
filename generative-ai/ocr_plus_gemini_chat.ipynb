{
 "cells": [
  {
   "cell_type": "code",
   "execution_count": null,
   "id": "a598a1ff-9d0c-4fee-a395-685d6c5a257b",
   "metadata": {},
   "outputs": [],
   "source": []
  },
  {
   "cell_type": "code",
   "execution_count": null,
   "id": "973769ad-9f77-4e86-865c-fb9473458c13",
   "metadata": {
    "tags": []
   },
   "outputs": [],
   "source": [
    "# installs\n",
    "! pip install -U -q --user google-cloud-documentai\n",
    "! pip install -U -q --user google-cloud-aiplatform"
   ]
  },
  {
   "cell_type": "code",
   "execution_count": null,
   "id": "1c309a62-d06e-45dc-951b-bc542bf57c3d",
   "metadata": {
    "tags": []
   },
   "outputs": [],
   "source": [
    "# restart kernel: top bar -> \"Kernel\" -> \"Restart Kernel\""
   ]
  },
  {
   "cell_type": "code",
   "execution_count": null,
   "id": "a8a5134c-fa5f-4f8a-8457-f23b5a1174f8",
   "metadata": {
    "tags": []
   },
   "outputs": [],
   "source": [
    "import os, json"
   ]
  },
  {
   "cell_type": "code",
   "execution_count": null,
   "id": "f9233fa9-2553-4e01-bbea-6acb8add1125",
   "metadata": {
    "tags": []
   },
   "outputs": [],
   "source": [
    "from typing import Optional\n",
    "\n",
    "from google.api_core.client_options import ClientOptions\n",
    "from google.cloud import documentai  # type: ignore"
   ]
  },
  {
   "cell_type": "code",
   "execution_count": null,
   "id": "b2ff5264-4705-4d73-87ac-c62ee92bcb06",
   "metadata": {
    "tags": []
   },
   "outputs": [],
   "source": [
    "import base64\n",
    "import vertexai\n",
    "from vertexai.generative_models import GenerativeModel, Part, FinishReason\n",
    "import vertexai.preview.generative_models as generative_models"
   ]
  },
  {
   "cell_type": "code",
   "execution_count": null,
   "id": "7803eba7-dffa-4b30-aa82-ccebb24e7905",
   "metadata": {
    "tags": []
   },
   "outputs": [],
   "source": [
    "P = ! gcloud config list --format 'value(core.project)'\n",
    "PROJECT_ID = P[0]\n",
    "REGION = \"us-central1\"\n",
    "PROJECT_ID"
   ]
  },
  {
   "cell_type": "code",
   "execution_count": null,
   "id": "93266206-8fa8-4904-b9e5-ab90ef288ee9",
   "metadata": {
    "tags": []
   },
   "outputs": [],
   "source": [
    "PN = ! gcloud projects list --filter=\"$(gcloud config get-value project)\" --format=\"value(PROJECT_NUMBER)\"\n",
    "PROJECT_NUMBER = PN[0]\n",
    "PROJECT_NUMBER"
   ]
  },
  {
   "cell_type": "code",
   "execution_count": null,
   "id": "25a538f1-3012-4dd4-a3d3-e342d42941a1",
   "metadata": {
    "tags": []
   },
   "outputs": [],
   "source": [
    "######################################################################################\n",
    "#\n",
    "# helper functions\n",
    "#\n",
    "######################################################################################"
   ]
  },
  {
   "cell_type": "code",
   "execution_count": null,
   "id": "d288470c-8619-4ac1-8a57-0b2c2c6011cd",
   "metadata": {
    "tags": []
   },
   "outputs": [],
   "source": [
    "# TODO(developer): Uncomment these variables before running the sample.\n",
    "processor_display_name = \"conductiv_ocr_processor_1\"\n",
    "location = \"us\" # Format is \"us\" or \"eu\"\n",
    "mime_type = \"application/pdf\" # Refer to https://cloud.google.com/document-ai/docs/file-types for supported file types\n",
    "field_mask = \"text,pages.pageNumber\"  # Optional. The fields to return in the Document object.\n",
    "processor_type = \"OCR_PROCESSOR\""
   ]
  },
  {
   "cell_type": "code",
   "execution_count": null,
   "id": "77a7ea52-0360-4ed8-9e67-9a8f792f630a",
   "metadata": {
    "tags": []
   },
   "outputs": [],
   "source": [
    "######################################################################################\n",
    "#\n",
    "# create an ocr processsor\n",
    "#\n",
    "######################################################################################"
   ]
  },
  {
   "cell_type": "code",
   "execution_count": null,
   "id": "72ed392c-51ae-4d07-a0f8-0c7248127917",
   "metadata": {
    "tags": []
   },
   "outputs": [],
   "source": [
    "def create_processor_sample(\n",
    "    project_id: str, location: str, processor_display_name: str, processor_type: str\n",
    ") -> None:\n",
    "    # You must set the api_endpoint if you use a location other than 'us'.\n",
    "    opts = ClientOptions(api_endpoint=f\"{location}-documentai.googleapis.com\")\n",
    "\n",
    "    client = documentai.DocumentProcessorServiceClient(client_options=opts)\n",
    "\n",
    "    # The full resource name of the location\n",
    "    # e.g.: projects/project_id/locations/location\n",
    "    parent = client.common_location_path(project_id, location)\n",
    "\n",
    "    # Create a processor\n",
    "    processor = client.create_processor(\n",
    "        parent=parent,\n",
    "        processor=documentai.Processor(\n",
    "            display_name=processor_display_name, type_=processor_type\n",
    "        ),\n",
    "    )\n",
    "\n",
    "    # Print the processor information\n",
    "    print(f\"Processor Name: {processor.name}\")\n",
    "    print(f\"Processor Display Name: {processor.display_name}\")\n",
    "    print(f\"Processor Type: {processor.type_}\")\n",
    "    return processor.name"
   ]
  },
  {
   "cell_type": "code",
   "execution_count": null,
   "id": "2072f1a1-fe8b-48fe-9ee6-1a6af408bfca",
   "metadata": {
    "tags": []
   },
   "outputs": [],
   "source": [
    "cn = create_processor_sample(PROJECT_ID, location, processor_display_name, processor_type)\n",
    "cn"
   ]
  },
  {
   "cell_type": "code",
   "execution_count": null,
   "id": "e50c1e27-32a3-4fa7-bcd5-6b214f75fe19",
   "metadata": {
    "tags": []
   },
   "outputs": [],
   "source": [
    "processor_id = cn.split(\"/\")[-1]\n",
    "processor_id"
   ]
  },
  {
   "cell_type": "code",
   "execution_count": null,
   "id": "8c5d4b85-c6d8-4d65-819f-6186dfb41bd7",
   "metadata": {
    "tags": []
   },
   "outputs": [],
   "source": [
    "######################################################################################\n",
    "#\n",
    "# ocr some pdfs\n",
    "#\n",
    "######################################################################################"
   ]
  },
  {
   "cell_type": "code",
   "execution_count": null,
   "id": "c8ae9956-88a6-4ec6-be5f-208a15860fe6",
   "metadata": {
    "tags": []
   },
   "outputs": [],
   "source": [
    "def get_pdf_filenames():\n",
    "    \"\"\"Retrieves a list of PDF filenames in the current directory.\"\"\"\n",
    "\n",
    "    pdf_files = []\n",
    "    for filename in os.listdir('.'):  # Iterate over files in the current dir\n",
    "        if filename.endswith('.pdf'):  # Check for .pdf extension\n",
    "            pdf_files.append(filename)\n",
    "\n",
    "    return pdf_files"
   ]
  },
  {
   "cell_type": "code",
   "execution_count": null,
   "id": "5de3d7c9-22c5-4fbd-856e-9411d1018301",
   "metadata": {
    "tags": []
   },
   "outputs": [],
   "source": [
    "def process_document_sample(\n",
    "    project_id: str,\n",
    "    location: str,\n",
    "    processor_id: str,\n",
    "    file_path: str,\n",
    "    mime_type: str,\n",
    "    field_mask: Optional[str] = None,\n",
    "    processor_version_id: Optional[str] = None,\n",
    ") -> None:\n",
    "    # You must set the `api_endpoint` if you use a location other than \"us\".\n",
    "    opts = ClientOptions(api_endpoint=f\"{location}-documentai.googleapis.com\")\n",
    "\n",
    "    client = documentai.DocumentProcessorServiceClient(client_options=opts)\n",
    "\n",
    "    if processor_version_id:\n",
    "        # The full resource name of the processor version, e.g.:\n",
    "        # `projects/{project_id}/locations/{location}/processors/{processor_id}/processorVersions/{processor_version_id}`\n",
    "        name = client.processor_version_path(\n",
    "            project_id, location, processor_id, processor_version_id\n",
    "        )\n",
    "    else:\n",
    "        # The full resource name of the processor, e.g.:\n",
    "        # `projects/{project_id}/locations/{location}/processors/{processor_id}`\n",
    "        name = client.processor_path(project_id, location, processor_id)\n",
    "\n",
    "    # Read the file into memory\n",
    "    with open(file_path, \"rb\") as image:\n",
    "        image_content = image.read()\n",
    "\n",
    "    # Load binary data\n",
    "    raw_document = documentai.RawDocument(content=image_content, mime_type=mime_type)\n",
    "\n",
    "    # For more information: https://cloud.google.com/document-ai/docs/reference/rest/v1/ProcessOptions\n",
    "    # Optional: Additional configurations for processing.\n",
    "    process_options = documentai.ProcessOptions(\n",
    "        ocr_config=documentai.OcrConfig(\n",
    "            enable_native_pdf_parsing=True,\n",
    "            enable_image_quality_scores=True,\n",
    "            enable_symbol=True,\n",
    "            # OCR Add Ons https://cloud.google.com/document-ai/docs/ocr-add-ons\n",
    "            premium_features=documentai.OcrConfig.PremiumFeatures(\n",
    "                compute_style_info=True,\n",
    "                enable_math_ocr=False,  # Enable to use Math OCR Model\n",
    "                enable_selection_mark_detection=True,\n",
    "            ),\n",
    "        )\n",
    "    )\n",
    "\n",
    "    # Configure the process request\n",
    "    request = documentai.ProcessRequest(\n",
    "        name=name,\n",
    "        raw_document=raw_document,\n",
    "        field_mask=field_mask,\n",
    "        process_options=process_options,\n",
    "    )\n",
    "\n",
    "    result = client.process_document(request=request)\n",
    "\n",
    "    # For a full list of `Document` object attributes, reference this page:\n",
    "    # https://cloud.google.com/document-ai/docs/reference/rest/v1/Document\n",
    "    document = result.document\n",
    "\n",
    "    # Read the text recognition output from the processor\n",
    "    return document.text"
   ]
  },
  {
   "cell_type": "code",
   "execution_count": null,
   "id": "cf1d1856-3e8f-4433-ab38-a339af3bca00",
   "metadata": {
    "tags": []
   },
   "outputs": [],
   "source": [
    "# Get the list of PDFs\n",
    "pdf_filenames = get_pdf_filenames()\n",
    "pdf_filenames"
   ]
  },
  {
   "cell_type": "code",
   "execution_count": null,
   "id": "82604c40-f092-43f1-b85d-9aebda5298cb",
   "metadata": {
    "tags": []
   },
   "outputs": [],
   "source": [
    "document_texts = list()\n",
    "\n",
    "for pdf_filename in pdf_filenames:\n",
    "\n",
    "    document_text = process_document_sample(\n",
    "        PROJECT_NUMBER\n",
    "        , location\n",
    "        , processor_id\n",
    "        , pdf_filename\n",
    "        , mime_type\n",
    "        , field_mask\n",
    "        ,\n",
    "    )\n",
    "    \n",
    "    document_texts.append(document_text)\n",
    "    \n",
    "for document_text in document_texts:\n",
    "    print(document_text[:50])\n",
    "    print('-'*30)"
   ]
  },
  {
   "cell_type": "code",
   "execution_count": null,
   "id": "7cf170db-8947-4af9-a474-89c6c092b3a3",
   "metadata": {},
   "outputs": [],
   "source": [
    "######################################################################################\n",
    "#\n",
    "# setup gemini\n",
    "#\n",
    "######################################################################################"
   ]
  },
  {
   "cell_type": "code",
   "execution_count": null,
   "id": "39b78f77-f946-4e2f-9d93-85746d410ba8",
   "metadata": {
    "tags": []
   },
   "outputs": [],
   "source": [
    "vertexai.init(project = PROJECT_ID, location = REGION)"
   ]
  },
  {
   "cell_type": "code",
   "execution_count": null,
   "id": "7998f7a9-15cf-4cfd-b23a-d2a565935a75",
   "metadata": {
    "tags": []
   },
   "outputs": [],
   "source": [
    "# define the LLM\n",
    "model_name = \"gemini-1.5-pro-001\" # \"gemini-1.5-flash-preview-0514\""
   ]
  },
  {
   "cell_type": "code",
   "execution_count": null,
   "id": "4be5df3e-f9c5-4840-a812-010a58426331",
   "metadata": {
    "tags": []
   },
   "outputs": [],
   "source": [
    "generation_config = {\n",
    "    \"max_output_tokens\": 8192,\n",
    "    \"temperature\": 1,\n",
    "    \"top_p\": 0.95,\n",
    "}\n",
    "\n",
    "safety_settings = {\n",
    "    generative_models.HarmCategory.HARM_CATEGORY_HATE_SPEECH: generative_models.HarmBlockThreshold.BLOCK_NONE,\n",
    "    generative_models.HarmCategory.HARM_CATEGORY_DANGEROUS_CONTENT: generative_models.HarmBlockThreshold.BLOCK_NONE,\n",
    "    generative_models.HarmCategory.HARM_CATEGORY_SEXUALLY_EXPLICIT: generative_models.HarmBlockThreshold.BLOCK_NONE,\n",
    "    generative_models.HarmCategory.HARM_CATEGORY_HARASSMENT: generative_models.HarmBlockThreshold.BLOCK_NONE,\n",
    "}"
   ]
  },
  {
   "cell_type": "code",
   "execution_count": null,
   "id": "ddfa5bd9-b282-41ab-88d9-84b14891ee0e",
   "metadata": {
    "tags": []
   },
   "outputs": [],
   "source": [
    "system_instruction = \"You research assistant capable of analyzing complex legal documents\""
   ]
  },
  {
   "cell_type": "code",
   "execution_count": null,
   "id": "69b8a4f2-1af1-4d01-889a-89defb8ef514",
   "metadata": {
    "tags": []
   },
   "outputs": [],
   "source": [
    "model = GenerativeModel(model_name\n",
    "                        #, tools=tools\n",
    "                        , system_instruction = [system_instruction]\n",
    "                           )"
   ]
  },
  {
   "cell_type": "code",
   "execution_count": null,
   "id": "c3e1d027-85f9-4d13-a833-fdd4bb905f06",
   "metadata": {
    "tags": []
   },
   "outputs": [],
   "source": [
    "######################################################################################\n",
    "#\n",
    "# build your use case\n",
    "#\n",
    "######################################################################################"
   ]
  },
  {
   "cell_type": "code",
   "execution_count": null,
   "id": "52d63304-3db9-44a8-8a10-798a0e71437d",
   "metadata": {
    "tags": []
   },
   "outputs": [],
   "source": [
    "instructions = \"\"\"Compare and contrast the documents below\"\"\".replace(\"\\n\", \" \")"
   ]
  },
  {
   "cell_type": "code",
   "execution_count": null,
   "id": "414c2c3d-b2b1-49d6-8b38-46810410b4b9",
   "metadata": {
    "tags": []
   },
   "outputs": [],
   "source": [
    "context_documents = \"<DOCUMENTS>\" + \"\\n\"\n",
    "for idx, document_text in enumerate(document_texts):\n",
    "    context_documents += f\"<DOCUMENT-{idx}>{json.dumps(document_text)}</DOCUMENT-{idx}>\" + \"\\n\"\n",
    "context_documents += \"</DOCUMENTS>\" + \"\\n\""
   ]
  },
  {
   "cell_type": "code",
   "execution_count": null,
   "id": "20b01642-cdf6-4a1f-9560-79a0514a1247",
   "metadata": {
    "tags": []
   },
   "outputs": [],
   "source": [
    "prompt = f\"\"\"<INSTRUCTIONS>{instructions}</INSTRUCTIONS> \n",
    "\n",
    "<CONTEXT>{context_documents}</CONTEXT>\n",
    "\"\"\""
   ]
  },
  {
   "cell_type": "code",
   "execution_count": null,
   "id": "8e35e725-e060-44f3-a57f-edcf4d7269e3",
   "metadata": {
    "tags": []
   },
   "outputs": [],
   "source": [
    "# start the chat\n",
    "chat = model.start_chat()\n",
    "r = chat.send_message([prompt]\n",
    "                      , generation_config=generation_config\n",
    "                      , safety_settings=safety_settings\n",
    "                     )\n",
    "\n",
    "print(r.candidates[0].content.parts[0].text)"
   ]
  },
  {
   "cell_type": "code",
   "execution_count": null,
   "id": "605f17b9-5cbb-4870-9e3f-d575c5a99188",
   "metadata": {
    "tags": []
   },
   "outputs": [],
   "source": [
    "# ask follow up questions\n",
    "\n",
    "chat_continuance = \"your follow up question would go here\"\n",
    "\n",
    "r = chat.send_message([chat_continuance]\n",
    "                      , generation_config=generation_config\n",
    "                      , safety_settings=safety_settings\n",
    "                     )\n",
    "\n",
    "print(r.candidates[0].content.parts[0].text)"
   ]
  }
 ],
 "metadata": {
  "environment": {
   "kernel": "conda-base-py",
   "name": "workbench-notebooks.m120",
   "type": "gcloud",
   "uri": "us-docker.pkg.dev/deeplearning-platform-release/gcr.io/workbench-notebooks:m120"
  },
  "kernelspec": {
   "display_name": "Python 3 (ipykernel) (Local)",
   "language": "python",
   "name": "conda-base-py"
  },
  "language_info": {
   "codemirror_mode": {
    "name": "ipython",
    "version": 3
   },
   "file_extension": ".py",
   "mimetype": "text/x-python",
   "name": "python",
   "nbconvert_exporter": "python",
   "pygments_lexer": "ipython3",
   "version": "3.10.14"
  }
 },
 "nbformat": 4,
 "nbformat_minor": 5
}
