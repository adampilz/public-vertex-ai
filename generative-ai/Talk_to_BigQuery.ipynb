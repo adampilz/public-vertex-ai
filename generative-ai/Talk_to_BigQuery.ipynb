{
 "cells": [
  {
   "cell_type": "code",
   "execution_count": null,
   "id": "997c7a74-a2cb-4321-ad14-dec88c5ed02c",
   "metadata": {},
   "outputs": [],
   "source": []
  },
  {
   "cell_type": "code",
   "execution_count": 1,
   "id": "6ce881bd-84f8-4890-ba47-d949c661bad1",
   "metadata": {},
   "outputs": [],
   "source": [
    "from vertexai.preview.language_models import TextGenerationModel"
   ]
  },
  {
   "cell_type": "code",
   "execution_count": 91,
   "id": "725a436f-21fd-414d-b98e-0d827e4ee490",
   "metadata": {},
   "outputs": [],
   "source": [
    "model = TextGenerationModel.from_pretrained('text-bison')"
   ]
  },
  {
   "cell_type": "code",
   "execution_count": 18,
   "id": "e2b1cfce-9496-4e25-aa34-b7740cb81fa1",
   "metadata": {},
   "outputs": [],
   "source": [
    "# get project ID\n",
    "P = ! gcloud config list --format 'value(core.project)'\n",
    "PROJECT_ID = P[0]"
   ]
  },
  {
   "cell_type": "code",
   "execution_count": null,
   "id": "66ff38d2-755b-4441-bb40-cbf548e3cd54",
   "metadata": {},
   "outputs": [],
   "source": [
    "######################################################################################\n",
    "#\n",
    "# DEI dataset\n",
    "#\n",
    "######################################################################################"
   ]
  },
  {
   "cell_type": "code",
   "execution_count": 4,
   "id": "c0459d81-e6c1-40a7-9c18-81267e204898",
   "metadata": {},
   "outputs": [
    {
     "data": {
      "application/vnd.jupyter.widget-view+json": {
       "model_id": "8372091c45824460861385115ea6cbf5",
       "version_major": 2,
       "version_minor": 0
      },
      "text/plain": [
       "Query is running:   0%|          |"
      ]
     },
     "metadata": {},
     "output_type": "display_data"
    },
    {
     "data": {
      "application/vnd.jupyter.widget-view+json": {
       "model_id": "e10bc168a317468aafce5c2e323a7d9e",
       "version_major": 2,
       "version_minor": 0
      },
      "text/plain": [
       "Downloading:   0%|          |"
      ]
     },
     "metadata": {},
     "output_type": "display_data"
    }
   ],
   "source": [
    "%%bigquery dei_df --project {PROJECT_ID}\n",
    "\n",
    "SELECT * FROM `bigquery-public-data.google_dei.dar_intersectional_representation` LIMIT 10"
   ]
  },
  {
   "cell_type": "code",
   "execution_count": 7,
   "id": "f901960b-8196-483f-b503-021c8d56032b",
   "metadata": {},
   "outputs": [
    {
     "data": {
      "text/html": [
       "<div>\n",
       "<style scoped>\n",
       "    .dataframe tbody tr th:only-of-type {\n",
       "        vertical-align: middle;\n",
       "    }\n",
       "\n",
       "    .dataframe tbody tr th {\n",
       "        vertical-align: top;\n",
       "    }\n",
       "\n",
       "    .dataframe thead th {\n",
       "        text-align: right;\n",
       "    }\n",
       "</style>\n",
       "<table border=\"1\" class=\"dataframe\">\n",
       "  <thead>\n",
       "    <tr style=\"text-align: right;\">\n",
       "      <th></th>\n",
       "      <th>workforce</th>\n",
       "      <th>report_year</th>\n",
       "      <th>gender_us</th>\n",
       "      <th>race_asian</th>\n",
       "      <th>race_black</th>\n",
       "      <th>race_hispanic_latinx</th>\n",
       "      <th>race_native_american</th>\n",
       "      <th>race_white</th>\n",
       "    </tr>\n",
       "  </thead>\n",
       "  <tbody>\n",
       "    <tr>\n",
       "      <th>0</th>\n",
       "      <td>tech</td>\n",
       "      <td>2018</td>\n",
       "      <td>men</td>\n",
       "      <td>0.310</td>\n",
       "      <td>0.015</td>\n",
       "      <td>0.036</td>\n",
       "      <td>0.005</td>\n",
       "      <td>0.443</td>\n",
       "    </tr>\n",
       "    <tr>\n",
       "      <th>1</th>\n",
       "      <td>tech</td>\n",
       "      <td>2023</td>\n",
       "      <td>men</td>\n",
       "      <td>0.347</td>\n",
       "      <td>0.029</td>\n",
       "      <td>0.049</td>\n",
       "      <td>0.005</td>\n",
       "      <td>0.334</td>\n",
       "    </tr>\n",
       "    <tr>\n",
       "      <th>2</th>\n",
       "      <td>tech</td>\n",
       "      <td>2020</td>\n",
       "      <td>men</td>\n",
       "      <td>0.335</td>\n",
       "      <td>0.019</td>\n",
       "      <td>0.038</td>\n",
       "      <td>0.005</td>\n",
       "      <td>0.389</td>\n",
       "    </tr>\n",
       "    <tr>\n",
       "      <th>3</th>\n",
       "      <td>tech</td>\n",
       "      <td>2019</td>\n",
       "      <td>men</td>\n",
       "      <td>0.321</td>\n",
       "      <td>0.016</td>\n",
       "      <td>0.037</td>\n",
       "      <td>0.005</td>\n",
       "      <td>0.417</td>\n",
       "    </tr>\n",
       "    <tr>\n",
       "      <th>4</th>\n",
       "      <td>tech</td>\n",
       "      <td>2015</td>\n",
       "      <td>men</td>\n",
       "      <td>0.275</td>\n",
       "      <td>0.013</td>\n",
       "      <td>0.033</td>\n",
       "      <td>0.005</td>\n",
       "      <td>0.515</td>\n",
       "    </tr>\n",
       "  </tbody>\n",
       "</table>\n",
       "</div>"
      ],
      "text/plain": [
       "  workforce  report_year gender_us  race_asian  race_black  \\\n",
       "0      tech         2018       men       0.310       0.015   \n",
       "1      tech         2023       men       0.347       0.029   \n",
       "2      tech         2020       men       0.335       0.019   \n",
       "3      tech         2019       men       0.321       0.016   \n",
       "4      tech         2015       men       0.275       0.013   \n",
       "\n",
       "   race_hispanic_latinx  race_native_american  race_white  \n",
       "0                 0.036                 0.005       0.443  \n",
       "1                 0.049                 0.005       0.334  \n",
       "2                 0.038                 0.005       0.389  \n",
       "3                 0.037                 0.005       0.417  \n",
       "4                 0.033                 0.005       0.515  "
      ]
     },
     "execution_count": 7,
     "metadata": {},
     "output_type": "execute_result"
    }
   ],
   "source": [
    "dei_df.head(5)"
   ]
  },
  {
   "cell_type": "code",
   "execution_count": null,
   "id": "67370c84-c00a-4000-9b6b-b4933fa34e51",
   "metadata": {},
   "outputs": [],
   "source": [
    "######################################################################################\n",
    "# generate text from the tabular data\n",
    "######################################################################################"
   ]
  },
  {
   "cell_type": "code",
   "execution_count": 9,
   "id": "243f1a2f-308e-424d-b6b7-22e650a3b09a",
   "metadata": {},
   "outputs": [
    {
     "data": {
      "text/plain": [
       "In 2018, 31% of men in the tech workforce in the United States were Asian.\n",
       "In 2018, 0.015% of men in the tech workforce in the United States were black.\n",
       "In 2018, 0.036% of men in the tech workforce in the United States were Hispanic or Latino.\n",
       "In 2018, 0.005% of men in the tech workforce in the United States were Native American.\n",
       "In 2018, 44.3% of men in the tech workforce in the United States were white.\n",
       "\n",
       "In 2023, 34.7% of men in the tech workforce in the United States were Asian.\n",
       "In 2023, 0.029% of men in the tech workforce in the United States were black.\n",
       "In 2023, 0.049% of men in the tech workforce in the United States were Hispanic or Latino.\n",
       "In 2023, 0.005% of men in the tech workforce in the United States were Native American.\n",
       "In 2023, 33.4% of men in the tech workforce in the United States were white.\n",
       "\n",
       "In 2020, 33.5% of men in the tech workforce in the United States were Asian.\n",
       "In 2020, 0.019% of men in the tech workforce in the United States were black.\n",
       "In 2020, 0.038% of men in the tech workforce in the United States were Hispanic or Latino.\n",
       "In 2020, 0.005% of men in the tech workforce in the United States were Native American.\n",
       "In 2020, 38.9% of men in the tech workforce in the United States were white.\n",
       "\n",
       "In 2019, 32.1% of men in the tech workforce in the United States were Asian.\n",
       "In 2019, 0.016% of men in the tech workforce in the United States were black.\n",
       "In 2019, 0.037% of men in the tech workforce in the United States were Hispanic or Latino.\n",
       "In 2019, 0.005% of men in the tech workforce in the United States were Native American.\n",
       "In 2019, 41.7% of men in the tech workforce in the United States were white.\n",
       "\n",
       "In 2015, 27.5% of men in the tech workforce in the United States were Asian.\n",
       "In 2015, 0.013% of men in the tech workforce in the United States were black.\n",
       "In 2015, 0.033% of men in the tech workforce in the United States were Hispanic or Latino.\n",
       "In 2015, 0.005% of men in the tech workforce in the United States were Native American.\n",
       "In 2015, 51.5% of men in the tech workforce in the United States were white."
      ]
     },
     "execution_count": 9,
     "metadata": {},
     "output_type": "execute_result"
    }
   ],
   "source": [
    "# Limit the size of the table due to context window\n",
    "dei_table = dei_df.head(5)\n",
    "\n",
    "prompt = f\"\"\"\n",
    "  Using the following table that shows the percentage of men in the tech workforce in the \n",
    "  United States by race and ethnicity, generate a sentence for each row to describe the meaning of the values\n",
    "\n",
    "  {dei_table}\n",
    "\n",
    "\"\"\"\n",
    "response = model.predict(prompt, temperature=0.2, max_output_tokens=1024, top_k=40, top_p=0.8)\n",
    "next_input = response.text\n",
    "response"
   ]
  },
  {
   "cell_type": "code",
   "execution_count": null,
   "id": "033e2b4f-f431-411d-88a5-e0d733be7dbc",
   "metadata": {},
   "outputs": [],
   "source": [
    "######################################################################################\n",
    "# use the generated text to create summaries\n",
    "######################################################################################"
   ]
  },
  {
   "cell_type": "code",
   "execution_count": 16,
   "id": "59efd745-8c20-429f-b0f7-e44642b6121d",
   "metadata": {},
   "outputs": [
    {
     "data": {
      "text/plain": [
       "The data shows that the percentage of men in the tech workforce in the United States who are Asian has increased from 27.5% in 2015 to 34.7% in 2023. The percentage of men in the tech workforce who are black has remained relatively unchanged at 0.015% from 2015 to 2023. The percentage of men in the tech workforce who are Hispanic or Latino has increased from 0.033% in 2015 to 0.049% in 2023. The percentage of men in the tech workforce who are Native American has remained at 0.005% from 2015 to 2023. The percentage of men in the tech workforce who are white has decreased from 51.5% in 2015 to 33.4% in 2023.\n",
       "\n",
       "The data also shows that the percentage of men in the tech workforce in the United States who are Asian is higher than the percentage of men in the tech workforce who are black, Hispanic or Latino, or Native American. The percentage of men in the tech workforce who are white is lower than the percentage of men in the tech workforce who are Asian, black, Hispanic or Latino, or Native American.\n",
       "\n",
       "Overall, the data shows that the percentage of men in the tech workforce in the United States who are Asian has increased, while the percentage of men in the tech workforce who are black, Hispanic or Latino, or Native American has remained relatively unchanged. The percentage of men in the tech workforce who are white has decreased."
      ]
     },
     "execution_count": 16,
     "metadata": {},
     "output_type": "execute_result"
    }
   ],
   "source": [
    "prompt = f\"\"\"\n",
    "  Using the following sentences to generate a paragraph summary of the trends that are occurring\n",
    "\n",
    "  {next_input}\n",
    "  \n",
    "  Do not add any insights or conclusions that are not found in the data provided.  \n",
    "  Identify the main trends in growth or decline over time.\n",
    "  Compare and contrast the trends in different groups.\n",
    "\n",
    "\"\"\"\n",
    "response = model.predict(prompt, temperature=0.1, max_output_tokens=1024, top_k=20, top_p=0.4)\n",
    "response"
   ]
  }
 ],
 "metadata": {
  "environment": {
   "kernel": "python3",
   "name": "common-cpu.m109",
   "type": "gcloud",
   "uri": "gcr.io/deeplearning-platform-release/base-cpu:m109"
  },
  "kernelspec": {
   "display_name": "Python 3",
   "language": "python",
   "name": "python3"
  },
  "language_info": {
   "codemirror_mode": {
    "name": "ipython",
    "version": 3
   },
   "file_extension": ".py",
   "mimetype": "text/x-python",
   "name": "python",
   "nbconvert_exporter": "python",
   "pygments_lexer": "ipython3",
   "version": "3.10.11"
  }
 },
 "nbformat": 4,
 "nbformat_minor": 5
}
