{
 "cells": [
  {
   "cell_type": "code",
   "execution_count": 1,
   "id": "a44d46c4-8cad-420f-bcdb-2fb437a174e0",
   "metadata": {},
   "outputs": [],
   "source": []
  },
  {
   "cell_type": "code",
   "execution_count": 4,
   "id": "8685ed85-3a0d-4c37-934f-5629d565cff8",
   "metadata": {
    "tags": []
   },
   "outputs": [],
   "source": [
    "! pip3 install --upgrade --quiet anthropic # i believe this is not needed\n",
    "! pip3 install --upgrade --quiet 'anthropic[vertex]'\n",
    "\n",
    "# restart the kernel after this step"
   ]
  },
  {
   "cell_type": "code",
   "execution_count": 1,
   "id": "8e1178c7-0d78-4fc5-ad4d-eada5c673c7c",
   "metadata": {
    "tags": []
   },
   "outputs": [],
   "source": [
    "from anthropic import AnthropicVertex"
   ]
  },
  {
   "cell_type": "code",
   "execution_count": 6,
   "id": "d6c8b05d-4c07-4d80-9978-a49863d47337",
   "metadata": {
    "tags": []
   },
   "outputs": [],
   "source": [
    "# params\n",
    "P = ! gcloud config list --format 'value(core.project)'\n",
    "PROJECT_ID = P[0]"
   ]
  },
  {
   "cell_type": "code",
   "execution_count": 5,
   "id": "cb5544d6-b00a-4e97-abb4-a9a62796323d",
   "metadata": {},
   "outputs": [
    {
     "name": "stdout",
     "output_type": "stream",
     "text": [
      "Number of tools called: 2\n",
      "Single pass calling: Yes\n",
      "\n",
      "Full response:\n",
      "{\n",
      "  \"id\": \"msg_vrtx_01B7auvi369cxuKSa46Y69ma\",\n",
      "  \"content\": [\n",
      "    {\n",
      "      \"citations\": null,\n",
      "      \"text\": \"I'll help you find Italian restaurants in San Francisco and check the current weather so you can decide about outdoor dining.\",\n",
      "      \"type\": \"text\"\n",
      "    },\n",
      "    {\n",
      "      \"id\": \"toolu_vrtx_01VjERLLeVM1vhe9RdcoiPmq\",\n",
      "      \"input\": {\n",
      "        \"location\": \"San Francisco\",\n",
      "        \"cuisine\": \"Italian\"\n",
      "      },\n",
      "      \"name\": \"search_restaurants\",\n",
      "      \"type\": \"tool_use\"\n",
      "    },\n",
      "    {\n",
      "      \"id\": \"toolu_vrtx_01DvtjUfuX33Hgi5Um1zobXw\",\n",
      "      \"input\": {\n",
      "        \"location\": \"San Francisco\"\n",
      "      },\n",
      "      \"name\": \"get_weather\",\n",
      "      \"type\": \"tool_use\"\n",
      "    }\n",
      "  ],\n",
      "  \"model\": \"claude-sonnet-4-20250514\",\n",
      "  \"role\": \"assistant\",\n",
      "  \"stop_reason\": \"tool_use\",\n",
      "  \"stop_sequence\": null,\n",
      "  \"type\": \"message\",\n",
      "  \"usage\": {\n",
      "    \"cache_creation_input_tokens\": 0,\n",
      "    \"cache_read_input_tokens\": 0,\n",
      "    \"input_tokens\": 488,\n",
      "    \"output_tokens\": 132,\n",
      "    \"server_tool_use\": null,\n",
      "    \"service_tier\": null\n",
      "  }\n",
      "}\n"
     ]
    }
   ],
   "source": [
    "# client\n",
    "client = AnthropicVertex(project_id=PROJECT_ID, region=\"us-east5\")\n",
    "\n",
    "# Simple example with two tools to force single pass calling\n",
    "message = client.messages.create(\n",
    "    model=\"claude-sonnet-4\",\n",
    "    max_tokens=1024,\n",
    "    tools=[\n",
    "        {\n",
    "            \"name\": \"search_restaurants\",\n",
    "            \"description\": \"Search for restaurants in a location\",\n",
    "            \"input_schema\": {\n",
    "                \"type\": \"object\",\n",
    "                \"properties\": {\n",
    "                    \"location\": {\n",
    "                        \"type\": \"string\",\n",
    "                        \"description\": \"City or area to search\",\n",
    "                    },\n",
    "                    \"cuisine\": {\n",
    "                        \"type\": \"string\", \n",
    "                        \"description\": \"Type of cuisine\"\n",
    "                    }\n",
    "                },\n",
    "                \"required\": [\"location\"],\n",
    "            },\n",
    "        },\n",
    "        {\n",
    "            \"name\": \"get_weather\",\n",
    "            \"description\": \"Get current weather for a location\",\n",
    "            \"input_schema\": {\n",
    "                \"type\": \"object\",\n",
    "                \"properties\": {\n",
    "                    \"location\": {\n",
    "                        \"type\": \"string\",\n",
    "                        \"description\": \"City name\",\n",
    "                    }\n",
    "                },\n",
    "                \"required\": [\"location\"],\n",
    "            },\n",
    "        }\n",
    "    ],\n",
    "    messages=[\n",
    "        {\n",
    "            \"role\": \"user\",\n",
    "            \"content\": \"I'm visiting San Francisco today. Find me Italian restaurants and check the weather so I know if I should eat outdoors.\",\n",
    "        }\n",
    "    ],\n",
    ")\n",
    "\n",
    "# Check if multiple tools were called in single pass\n",
    "tool_calls = [block for block in message.content if hasattr(block, 'type') and block.type == \"tool_use\"]\n",
    "print(f\"Number of tools called: {len(tool_calls)}\")\n",
    "print(f\"Single pass calling: {'Yes' if len(tool_calls) > 1 else 'No'}\")\n",
    "\n",
    "print(\"\\nFull response:\")\n",
    "print(message.model_dump_json(indent=2))"
   ]
  }
 ],
 "metadata": {
  "environment": {
   "kernel": "conda-base-py",
   "name": "workbench-notebooks.m120",
   "type": "gcloud",
   "uri": "us-docker.pkg.dev/deeplearning-platform-release/gcr.io/workbench-notebooks:m120"
  },
  "kernelspec": {
   "display_name": "Python 3 (ipykernel) (Local)",
   "language": "python",
   "name": "conda-base-py"
  },
  "language_info": {
   "codemirror_mode": {
    "name": "ipython",
    "version": 3
   },
   "file_extension": ".py",
   "mimetype": "text/x-python",
   "name": "python",
   "nbconvert_exporter": "python",
   "pygments_lexer": "ipython3",
   "version": "3.10.14"
  }
 },
 "nbformat": 4,
 "nbformat_minor": 5
}
