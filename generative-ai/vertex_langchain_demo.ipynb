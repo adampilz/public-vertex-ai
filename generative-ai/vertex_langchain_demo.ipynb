{
 "cells": [
  {
   "cell_type": "code",
   "execution_count": 15,
   "id": "d40be60f-90b1-4ad3-abfa-1f8fa12a474b",
   "metadata": {},
   "outputs": [],
   "source": [
    "# ! pip install langchain -U -q --user\n",
    "# ! pip install google.cloud.aiplatform -U -q --user"
   ]
  },
  {
   "cell_type": "code",
   "execution_count": 1,
   "id": "c4c29e4c-742b-4aca-be67-a912fe4a704d",
   "metadata": {},
   "outputs": [],
   "source": [
    "from vertexai.preview.language_models import TextGenerationModel"
   ]
  },
  {
   "cell_type": "code",
   "execution_count": null,
   "id": "98a65aae-6dac-4137-b005-18c669b19ff2",
   "metadata": {},
   "outputs": [],
   "source": [
    "######################################################################################\n",
    "#\n",
    "# LLMs for tradiional NLP tasks - Have an instance of model API which can act as a NLP.\n",
    "#\n",
    "######################################################################################"
   ]
  },
  {
   "cell_type": "markdown",
   "id": "96816cd5-a694-44f4-b22d-2a5d7daf8e86",
   "metadata": {},
   "source": [
    "# Vertex AI LLMs for NLP tasks\n",
    "### Have an instance of model API which can act as a NLP."
   ]
  },
  {
   "cell_type": "code",
   "execution_count": 25,
   "id": "ae1b65ee-87c5-4972-b9fb-6cf6d75cf920",
   "metadata": {},
   "outputs": [
    {
     "name": "stdout",
     "output_type": "stream",
     "text": [
      "\n",
      "Given the text below, perform the following analyses:\n",
      "\n",
      "Entity Extraction: Extract entities such as persons, places, addresses, consumer goods, organizations.\n",
      "Sentiment Analysis: Identify and categorize sentiments as positive, negative, or neutral.\n",
      "Classification: Categorize the content into a general category and, if possible, a sub-category.\n",
      "Root Cause Analysis: If the customer identifies an issue with the product, return the general category of the feature of the product that is the cause of the issue.\n",
      "\n",
      "Text to perform the analysis: The CoffeeBrew 2000 makes my morning routine difficult.  The handle is oriented in a way that hurts my wrist when I pour my coffee.\n",
      "\n"
     ]
    }
   ],
   "source": [
    "document = \"The CoffeeBrew 2000 makes my morning routine difficult.  The handle is oriented in a way that hurts my wrist when I pour my coffee.\"\n",
    "\n",
    "prompt = f\"\"\"\n",
    "Given the text below, perform the following analyses:\n",
    "\n",
    "Entity Extraction: Extract entities such as persons, places, addresses, consumer goods, organizations.\n",
    "Sentiment Analysis: Identify and categorize sentiments as positive, negative, or neutral.\n",
    "Classification: Categorize the content into a general category and, if possible, a sub-category.\n",
    "Root Cause Analysis: If the customer identifies an issue with the product, return the general category of the feature of the product that is the cause of the issue.\n",
    "\n",
    "Text to perform the analysis: {document}\n",
    "\"\"\"\n",
    "\n",
    "print(prompt)"
   ]
  },
  {
   "cell_type": "code",
   "execution_count": 27,
   "id": "57dde6e1-9e64-4d14-a024-e96f5010948c",
   "metadata": {},
   "outputs": [
    {
     "name": "stdout",
     "output_type": "stream",
     "text": [
      " ### **Entity Extraction** \n",
      "\n",
      "* **Persons:**  None\n",
      "* **Places:** None\n",
      "* **Addresses:** None\n",
      "* **Consumer Goods:** CoffeeBrew 2000\n",
      "* **Organizations:** None\n",
      "\n",
      "\n",
      "### **Sentiment Analysis** \n",
      "\n",
      "* **Sentiment:** Negative\n",
      "\n",
      "\n",
      "### **Classification** \n",
      "\n",
      "* **General Category:** Product Review\n",
      "* **Sub-Category:** Coffee Maker\n",
      "\n",
      "\n",
      "### **Root Cause Analysis** \n",
      "\n",
      "* **General Category:** Design\n",
      "* **Sub-Category:** Handle\n"
     ]
    }
   ],
   "source": [
    "#parameters = { \"temperature\": 0.1, \"max_output_tokens\": 200, \"top_p\": 0.2, \"top_k\": 10, }\n",
    "parameters = { \"temperature\": 0.0, \"max_output_tokens\": 128, \"top_p\": 0.95, \"top_k\": 40, }\n",
    "model = TextGenerationModel.from_pretrained(\"text-bison\")\n",
    "response = model.predict(prompt, **parameters, )\n",
    "print(response.text)"
   ]
  },
  {
   "cell_type": "markdown",
   "id": "0340249b-c266-4dce-b861-ed341a73806b",
   "metadata": {},
   "source": [
    "# Langchain + Google Cloud Platform Vertex AI PaLM"
   ]
  },
  {
   "cell_type": "code",
   "execution_count": 2,
   "id": "e9a784c6-9cbe-44d0-a7ff-07d97432dc88",
   "metadata": {},
   "outputs": [],
   "source": [
    "from langchain.llms import VertexAI\n",
    "from langchain import PromptTemplate, LLMChain"
   ]
  },
  {
   "cell_type": "code",
   "execution_count": 3,
   "id": "ae4b4a5e-7ccf-44fa-a865-a74a7224061e",
   "metadata": {},
   "outputs": [],
   "source": [
    "llm = VertexAI()"
   ]
  },
  {
   "cell_type": "code",
   "execution_count": 20,
   "id": "fa54fc98-8d68-4164-98e2-a13584255840",
   "metadata": {},
   "outputs": [
    {
     "data": {
      "text/plain": [
       "PromptTemplate(input_variables=['document'], output_parser=None, partial_variables={}, template='\\nGiven the text below, perform the following analyses:\\n\\nEntity Extraction: Extract entities such as persons, places, addresses, consumer goods, organizations.\\nSentiment Analysis: Identify and categorize sentiments as positive, negative, or neutral.\\nClassification: Categorize the content into a general category and, if possible, a sub-category.\\nRoot Cause Analysis: If the customer identifies an issue with the product, return the general category of the feature of the product that is the cause of the issue.\\n\\nText to perform the analysis: {document}\\n', template_format='f-string', validate_template=True)"
      ]
     },
     "execution_count": 20,
     "metadata": {},
     "output_type": "execute_result"
    }
   ],
   "source": [
    "template = \"\"\"\n",
    "Given the text below, perform the following analyses:\n",
    "\n",
    "Entity Extraction: Extract entities such as persons, places, addresses, consumer goods, organizations.\n",
    "Sentiment Analysis: Identify and categorize sentiments as positive, negative, or neutral.\n",
    "Classification: Categorize the content into a general category and, if possible, a sub-category.\n",
    "Root Cause Analysis: If the customer identifies an issue with the product, return the general category of the feature of the product that is the cause of the issue.\n",
    "\n",
    "Text to perform the analysis: {document}\n",
    "\"\"\"\n",
    "\n",
    "prompt = PromptTemplate(template=template, input_variables=[\"document\"])\n",
    "prompt"
   ]
  },
  {
   "cell_type": "code",
   "execution_count": 21,
   "id": "9b6175f5-5f9a-40a5-ae1a-45ca3d1791c6",
   "metadata": {},
   "outputs": [
    {
     "data": {
      "text/plain": [
       "LLMChain(memory=None, callbacks=None, callback_manager=None, verbose=False, tags=None, metadata=None, prompt=PromptTemplate(input_variables=['document'], output_parser=None, partial_variables={}, template='\\nGiven the text below, perform the following analyses:\\n\\nEntity Extraction: Extract entities such as persons, places, addresses, consumer goods, organizations.\\nSentiment Analysis: Identify and categorize sentiments as positive, negative, or neutral.\\nClassification: Categorize the content into a general category and, if possible, a sub-category.\\nRoot Cause Analysis: If the customer identifies an issue with the product, return the general category of the feature of the product that is the cause of the issue.\\n\\nText to perform the analysis: {document}\\n', template_format='f-string', validate_template=True), llm=VertexAI(cache=None, verbose=False, callbacks=None, callback_manager=None, tags=None, metadata=None, client=<vertexai.language_models._language_models._PreviewTextGenerationModel object at 0x7fa6595663e0>, model_name='text-bison', temperature=0.0, max_output_tokens=128, top_p=0.95, top_k=40, stop=None, project=None, location='us-central1', credentials=None, request_parallelism=5, max_retries=6, tuned_model_name=None), output_key='text', output_parser=StrOutputParser(), return_final_only=True, llm_kwargs={})"
      ]
     },
     "execution_count": 21,
     "metadata": {},
     "output_type": "execute_result"
    }
   ],
   "source": [
    "llm_chain = LLMChain(prompt=prompt, llm=llm)\n",
    "llm_chain"
   ]
  },
  {
   "cell_type": "code",
   "execution_count": 23,
   "id": "dd4eb083-6a8d-4af0-be6b-207e4dac0a5b",
   "metadata": {},
   "outputs": [
    {
     "name": "stdout",
     "output_type": "stream",
     "text": [
      " ### **Entity Extraction** \n",
      "\n",
      "* **Persons:**  None\n",
      "* **Places:** None\n",
      "* **Addresses:** None\n",
      "* **Consumer Goods:** CoffeeBrew 2000\n",
      "* **Organizations:** None\n",
      "\n",
      "\n",
      "### **Sentiment Analysis** \n",
      "\n",
      "* **Sentiment:** Negative\n",
      "\n",
      "\n",
      "### **Classification** \n",
      "\n",
      "* **General Category:** Product Review\n",
      "* **Sub-Category:** Coffee Maker\n",
      "\n",
      "\n",
      "### **Root Cause Analysis** \n",
      "\n",
      "* **General Category:** Design\n",
      "* **Sub-Category:** Handle\n"
     ]
    }
   ],
   "source": [
    "print(llm_chain.run(document))"
   ]
  },
  {
   "cell_type": "markdown",
   "id": "07f2064b-30cc-4b64-922e-1e65f82a9aa3",
   "metadata": {},
   "source": [
    "# Extraction\n",
    "## Create points list by reading this tender document"
   ]
  },
  {
   "cell_type": "code",
   "execution_count": 28,
   "id": "eac8fb92-83e2-4e16-949a-5b61a4b01e69",
   "metadata": {},
   "outputs": [],
   "source": [
    "document = \"\"\"Experience unparalleled performance with the Phoenix Pro X200 Laptop. \n",
    "Dive into stunning visuals on its 15.6-inch FHD display, powered by the latest NVIDIA GeForce RTX 3060 GPU. \n",
    "Speed through tasks with the 10th Gen Intel Core i7 processor and 16GB DDR4 RAM. \n",
    "Store all your essential files on the expansive 512GB NVMe SSD. \n",
    "Stay connected with a range of ports including 2x USB 3.1, 1x HDMI, and a dedicated Ethernet jack. \n",
    "With up to 10 hours of battery life, the X200 ensures you're ready for work and play anytime. \n",
    "Wrapped in a sleek aluminum chassis weighing just 4.2 lbs, it's the perfect companion for on-the-go professionals.\"\"\""
   ]
  },
  {
   "cell_type": "code",
   "execution_count": 30,
   "id": "dd8f3c27-3f9f-49ba-918d-031868a022c3",
   "metadata": {},
   "outputs": [
    {
     "name": "stdout",
     "output_type": "stream",
     "text": [
      "\n",
      "Extract technical specifications from the following product description below.\n",
      "Return a JSON object with the extracted specs as the values and general category names of the specs as the JSON keys:\n",
      "\n",
      "Extract technical specifications from the following product description:\n",
      "\n",
      "Experience unparalleled performance with the Phoenix Pro X200 Laptop. \n",
      "Dive into stunning visuals on its 15.6-inch FHD display, powered by the latest NVIDIA GeForce RTX 3060 GPU. \n",
      "Speed through tasks with the 10th Gen Intel Core i7 processor and 16GB DDR4 RAM. \n",
      "Store all your essential files on the expansive 512GB NVMe SSD. \n",
      "Stay connected with a range of ports including 2x USB 3.1, 1x HDMI, and a dedicated Ethernet jack. \n",
      "With up to 10 hours of battery life, the X200 ensures you're ready for work and play anytime. \n",
      "Wrapped in a sleek aluminum chassis weighing just 4.2 lbs, it's the perfect companion for on-the-go professionals.\n",
      "\n"
     ]
    }
   ],
   "source": [
    "prompt = f\"\"\"\n",
    "Extract technical specifications from the following product description below.\n",
    "Return a JSON object with the extracted specs as the values and general category names of the specs as the JSON keys:\n",
    "\n",
    "Extract technical specifications from the following product description:\n",
    "\n",
    "{document}\n",
    "\"\"\"\n",
    "\n",
    "print(prompt)"
   ]
  },
  {
   "cell_type": "code",
   "execution_count": 38,
   "id": "c3355c31-8214-4f59-a586-2451c77ac649",
   "metadata": {},
   "outputs": [
    {
     "name": "stdout",
     "output_type": "stream",
     "text": [
      "\n",
      "Extract technical specifications from the following product description below.\n",
      "Return a JSON array of objects containing category name and spec:\n",
      "\n",
      "Extract technical specifications from the following product description:\n",
      "\n",
      "Experience unparalleled performance with the Phoenix Pro X200 Laptop. \n",
      "Dive into stunning visuals on its 15.6-inch FHD display, powered by the latest NVIDIA GeForce RTX 3060 GPU. \n",
      "Speed through tasks with the 10th Gen Intel Core i7 processor and 16GB DDR4 RAM. \n",
      "Store all your essential files on the expansive 512GB NVMe SSD. \n",
      "Stay connected with a range of ports including 2x USB 3.1, 1x HDMI, and a dedicated Ethernet jack. \n",
      "With up to 10 hours of battery life, the X200 ensures you're ready for work and play anytime. \n",
      "Wrapped in a sleek aluminum chassis weighing just 4.2 lbs, it's the perfect companion for on-the-go professionals.\n",
      "\n"
     ]
    }
   ],
   "source": [
    "prompt = f\"\"\"\n",
    "Extract technical specifications from the following product description below.\n",
    "Return a JSON array of objects containing category name and spec:\n",
    "\n",
    "Extract technical specifications from the following product description:\n",
    "\n",
    "{document}\n",
    "\"\"\"\n",
    "\n",
    "print(prompt)"
   ]
  },
  {
   "cell_type": "code",
   "execution_count": 39,
   "id": "28daed1b-f4ab-48d1-bccf-aec28ed404a9",
   "metadata": {},
   "outputs": [
    {
     "name": "stdout",
     "output_type": "stream",
     "text": [
      " [\n",
      "  {\n",
      "    \"category\": \"Display\",\n",
      "    \"specs\": \"15.6-inch FHD\"\n",
      "  },\n",
      "  {\n",
      "    \"category\": \"Graphics\",\n",
      "    \"specs\": \"NVIDIA GeForce RTX 3060 GPU\"\n",
      "  },\n",
      "  {\n",
      "    \"category\": \"Processor\",\n",
      "    \"specs\": \"10th Gen Intel Core i7\"\n",
      "  },\n",
      "  {\n",
      "    \"category\": \"Memory\",\n",
      "    \"specs\": \"16GB DDR4 RAM\"\n",
      "  },\n",
      "  {\n",
      "    \"category\": \"Storage\",\n",
      "\n"
     ]
    }
   ],
   "source": [
    "parameters = { \"temperature\": 0.0, \"max_output_tokens\": 128, \"top_p\": 0.95, \"top_k\": 40, }\n",
    "model = TextGenerationModel.from_pretrained(\"text-bison\")\n",
    "response = model.predict(prompt, **parameters, )\n",
    "print(response.text)"
   ]
  },
  {
   "cell_type": "markdown",
   "id": "98b3f1c7-2c8b-4038-b6b3-4bbf00186301",
   "metadata": {},
   "source": [
    "# Solution Requirement Verification "
   ]
  },
  {
   "cell_type": "code",
   "execution_count": null,
   "id": "45b29c49-6b0f-4363-b9e2-7bd7d770c3be",
   "metadata": {},
   "outputs": [],
   "source": [
    "prompt = \"\"\"\n",
    "Control Spec: Laptop Series A100\n",
    "\n",
    "-Display: 13.3-inch FHD (1920x1080) LED-backlit\n",
    "-Processor: 8th Gen Intel Core i5, 2.3GHz base frequency\n",
    "-RAM: 8GB DDR4\n",
    "-Storage: 256GB SATA SSD\n",
    "-Graphics: Integrated Intel UHD Graphics 620\n",
    "-Ports: 2x USB 3.0, 1x HDMI, 1x SD card reader\n",
    "-Connectivity: Wi-Fi 5 (802.11ac), Bluetooth 4.2\n",
    "-Battery life: Up to 8 hours\n",
    "-Weight: 3.1 lbs\n",
    "\n",
    "\n",
    "Proposed Spec: Laptop Series B200\n",
    "\n",
    "-Display: 14-inch FHD (1920x1080) IPS panel\n",
    "-Processor: 9th Gen Intel Core i5, 2.5GHz base frequency\n",
    "-RAM: 12GB DDR4\n",
    "-Storage: 512GB NVMe SSD\n",
    "-Graphics: Integrated Intel Iris Plus Graphics\n",
    "-Ports: 3x USB 3.1, 2x USB-C, 1x HDMI, 1x SD card reader\n",
    "-Connectivity: Wi-Fi 6 (802.11ax), Bluetooth 5.0\n",
    "-Battery life: Up to 10 hours\n",
    "-Weight: 2.9 lbs\n",
    "\n",
    "Please review the specifications provided for the 'Laptop Series A100' (Control Spec) and the 'Laptop Series B200' (Proposed Spec). \n",
    "Compare the features and capabilities of the proposed spec to the control spec. \n",
    "Based on your analysis, determine if the proposed spec meets or exceeds the minimum requirements outlined in the control spec. \n",
    "Provide your conclusions and list any categories which do not meet and minimum requirements if you find any\"\"\"\n",
    "\n",
    "print(prompt)"
   ]
  },
  {
   "cell_type": "code",
   "execution_count": 37,
   "id": "5e9d94df-a6ac-4ba3-ae88-7b3a50623b9f",
   "metadata": {},
   "outputs": [
    {
     "name": "stdout",
     "output_type": "stream",
     "text": [
      " The proposed Laptop Series B200 meets or exceeds the minimum requirements outlined in the control spec for the Laptop Series A100 in all categories. \n",
      "\n",
      "Here is a detailed comparison of the two laptops:\n",
      "\n",
      "**Display:** The proposed B200 has a larger display (14-inch vs. 13.3-inch) and a higher resolution (FHD IPS panel vs. FHD LED-backlit). \n",
      "**Meets Requirement**\n",
      "\n",
      "**Processor:** The proposed B200 has a newer and faster processor (9th Gen Intel Core i5 vs. 8th Gen Intel Core i5). \n",
      "**Meets Requirement**\n",
      "\n",
      "**RAM:** The proposed B200 has more RAM (12GB vs. 8GB). \n",
      "**Meets Requirement**\n",
      "\n",
      "**Storage:** The proposed B200 has more storage (512GB vs. 256GB) and a faster SSD (NVMe vs. SATA). \n",
      "**Meets Requirement**\n",
      "\n",
      "**Graphics:** The proposed B200 has better integrated graphics (Intel Iris Plus Graphics vs. Intel UHD Graphics 620). \n",
      "**Meets Requirement**\n",
      "\n",
      "**Ports:** The proposed B200 has more ports, including two additional USB-C ports. \n",
      "**Meets Requirement**\n",
      "\n",
      "**Connectivity:** The proposed B200 has newer and faster wireless connectivity (Wi-Fi 6 vs. Wi-Fi 5 and Bluetooth 5.0 vs. Bluetooth 4.2). \n",
      "**Meets Requirement**\n",
      "\n",
      "**Battery life:** The proposed B200 has a longer battery life (up to 10 hours vs. up to 8 hours). \n",
      "**Meets Requirement**\n",
      "\n",
      "**Weight:** The proposed B200 is lighter (2.9 lbs vs. 3.1 lbs). \n",
      "**Meets Requirement**\n",
      "\n",
      "Overall, the proposed Laptop Series B200 meets or exceeds the minimum requirements outlined in the control spec for the Laptop Series A100 in all categories.\n"
     ]
    }
   ],
   "source": [
    "parameters = { \"temperature\": 0.0, \"max_output_tokens\": 1000, \"top_p\": 0.95, \"top_k\": 40, }\n",
    "model = TextGenerationModel.from_pretrained(\"text-bison\")\n",
    "response = model.predict(prompt, **parameters, )\n",
    "print(response.text)"
   ]
  },
  {
   "cell_type": "code",
   "execution_count": null,
   "id": "79da6755-20b9-4bc4-bf7a-ef0ab391da6c",
   "metadata": {},
   "outputs": [],
   "source": []
  }
 ],
 "metadata": {
  "environment": {
   "kernel": "python3",
   "name": "common-cpu.m109",
   "type": "gcloud",
   "uri": "gcr.io/deeplearning-platform-release/base-cpu:m109"
  },
  "kernelspec": {
   "display_name": "Python 3",
   "language": "python",
   "name": "python3"
  },
  "language_info": {
   "codemirror_mode": {
    "name": "ipython",
    "version": 3
   },
   "file_extension": ".py",
   "mimetype": "text/x-python",
   "name": "python",
   "nbconvert_exporter": "python",
   "pygments_lexer": "ipython3",
   "version": "3.10.11"
  }
 },
 "nbformat": 4,
 "nbformat_minor": 5
}
