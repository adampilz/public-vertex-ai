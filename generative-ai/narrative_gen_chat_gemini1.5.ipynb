{
 "cells": [
  {
   "cell_type": "code",
   "execution_count": 14,
   "id": "84139def-ba8b-4361-a95b-f21bdd71f9c5",
   "metadata": {
    "tags": []
   },
   "outputs": [],
   "source": []
  },
  {
   "cell_type": "code",
   "execution_count": 1,
   "id": "e1324ee1-958b-40ee-919d-57571611663a",
   "metadata": {
    "tags": []
   },
   "outputs": [],
   "source": [
    "#import base64\n",
    "import json\n",
    "import vertexai\n",
    "from vertexai.generative_models import GenerativeModel, Part\n",
    "import vertexai.preview.generative_models as generative_models"
   ]
  },
  {
   "cell_type": "code",
   "execution_count": 2,
   "id": "3fc5c474-1e5e-4dc2-b53d-8c0dc4448399",
   "metadata": {
    "tags": []
   },
   "outputs": [
    {
     "data": {
      "text/plain": [
       "'ap-alto-ml-1000'"
      ]
     },
     "execution_count": 2,
     "metadata": {},
     "output_type": "execute_result"
    }
   ],
   "source": [
    "P = ! gcloud config list --format 'value(core.project)'\n",
    "PROJECT_ID = P[0]\n",
    "REGION = \"us-central1\"\n",
    "PROJECT_ID"
   ]
  },
  {
   "cell_type": "code",
   "execution_count": 3,
   "id": "3d385dda-a9b5-473d-a1d5-490d2f4afcbc",
   "metadata": {
    "tags": []
   },
   "outputs": [],
   "source": [
    "generation_config = {\n",
    "    \"max_output_tokens\": 8192,\n",
    "    \"temperature\": 1,\n",
    "    \"top_p\": 0.95,\n",
    "}\n",
    "\n",
    "safety_settings = {\n",
    "    generative_models.HarmCategory.HARM_CATEGORY_HATE_SPEECH: generative_models.HarmBlockThreshold.BLOCK_NONE,\n",
    "    generative_models.HarmCategory.HARM_CATEGORY_DANGEROUS_CONTENT: generative_models.HarmBlockThreshold.BLOCK_NONE,\n",
    "    generative_models.HarmCategory.HARM_CATEGORY_SEXUALLY_EXPLICIT: generative_models.HarmBlockThreshold.BLOCK_NONE,\n",
    "    generative_models.HarmCategory.HARM_CATEGORY_HARASSMENT: generative_models.HarmBlockThreshold.BLOCK_NONE,\n",
    "}"
   ]
  },
  {
   "cell_type": "code",
   "execution_count": null,
   "id": "2cca3a82-6801-44d0-9da8-db71a089537e",
   "metadata": {},
   "outputs": [],
   "source": [
    "######################################################################################\n",
    "#\n",
    "# examples\n",
    "#\n",
    "######################################################################################"
   ]
  },
  {
   "cell_type": "code",
   "execution_count": 42,
   "id": "e3788ce0-e57d-4081-8df3-4d77c18ec3b9",
   "metadata": {
    "tags": []
   },
   "outputs": [],
   "source": [
    "data = list()"
   ]
  },
  {
   "cell_type": "code",
   "execution_count": 43,
   "id": "207d2aa3-f689-4efc-b9ce-272aaaee62e8",
   "metadata": {
    "tags": []
   },
   "outputs": [],
   "source": [
    "data.append( {\n",
    "  \"sales data\": {\n",
    "    \"data\": [600, 550, 480, 420, 390, 370, 365],\n",
    "    \"data description\": \"Weekly sales figures for the gadget (in units)\",\n",
    "    \"commentary\": \"Sales for the product started strong but saw a consistent decline over the weeks. This suggests that sales waned over time.\"\n",
    "  },\n",
    "  \"advertising spend\": {\n",
    "    \"data\": [3000, 2800, 2600, 2400, 2200, 2000, 1800],\n",
    "    \"data description\": \"Weekly advertising spend (in $)\",\n",
    "    \"commentary\": \"Advertising spend decreased steadily throughout the period.\"\n",
    "  },\n",
    "  \"website traffic\": {\n",
    "    \"data\": [20000, 19500, 19000, 18800, 18700, 18600, 18500],\n",
    "    \"data description\": \"Weekly website visitors\",\n",
    "    \"commentary\": \"The decline in website traffic was gradual, suggesting a slow but steady decrease in customer interest or engagement with the brand or product over the weeks.\"\n",
    "  },\n",
    "  \"customer reviews\": {\n",
    "    \"data\": [4.9, 4.8, 4.7, 4.3, 4.0, 3.8, 3.7],\n",
    "    \"data description\": \"Average weekly product rating (out of 5)\",\n",
    "    \"commentary\": \"Reviews started exceptionally high but took a noticeable dip in the latter half of the period. The downward trend in ratings suggests issues with product satisfaction or quality concerns among customers who purchased later in the cycle.\"\n",
    "  },\n",
    "  \"overall summary\": {\n",
    "    \"commentary\": \"\"\"The sales data for the product showed strong initial performance, likely boosted by the high advertising spend and positive early reviews. \n",
    "    However, as advertising spend tapered off, sales correspondingly declined, suggesting that continual promotion might be needed to maintain interest. \n",
    "    The steady drop in website traffic could be a result of decreased advertising or diminishing consumer interest after the initial launch. \n",
    "    Most concerning is the decline in customer reviews, which took a steeper downturn in the latter half. \n",
    "    This could mean that later batches of the product had quality issues or that initial expectations set by early positive reviews were not met for subsequent purchasers. \n",
    "    The company should investigate the feedback further to address potential quality concerns and strategize future advertising efforts more effectively.\"\"\"\n",
    "  }\n",
    "})"
   ]
  },
  {
   "cell_type": "code",
   "execution_count": 44,
   "id": "56df79d0-14c1-4f68-af6c-7f167f2b0c7f",
   "metadata": {
    "tags": []
   },
   "outputs": [],
   "source": [
    "data.append( {\n",
    "  \"sales data\": {\n",
    "    \"data\": [10000, 9500, 8800, 8000, 7800, 8500, 9000],\n",
    "    \"data description\": \"Weekly sales figures for the gadget (in units)\",\n",
    "    \"commentary\": \"The product began with strong sales. After an expected gradual decline in the following weeks, there was a resurgence in sales towards the end of the period.\"\n",
    "  },\n",
    "  \"advertising spend\": {\n",
    "    \"data\": [5000, 4800, 4500, 4000, 3500, 4500, 5500],\n",
    "    \"data description\": \"Weekly advertising spend (in $)\",\n",
    "    \"commentary\": \"The initial advertising spend was high but then began to dip. However, there was an increase towards the end.\"\n",
    "  },\n",
    "  \"website traffic\": {\n",
    "    \"data\": [50000, 49000, 47000, 46000, 45000, 50000, 55000],\n",
    "    \"data description\": \"Weekly website visitors\",\n",
    "    \"commentary\": \"The site experienced a high influx of visitors initially, which decreased steadily but then saw a sharp increase again towards the end of the period.\"\n",
    "  },\n",
    "  \"customer reviews\": {\n",
    "    \"data\": [4.6, 4.7, 4.8, 4.7, 4.6, 4.9, 5.0],\n",
    "    \"data description\": \"Average weekly product rating (out of 5)\",\n",
    "    \"commentary\": \"The product received consistently high reviews throughout the period, with an impressive peak in ratings towards the end. This suggests that word-of-mouth or positive reviews contributed to regenerating interest.\"\n",
    "  },\n",
    "  \"overall summary\": {\n",
    "    \"commentary\": \"\"\"Sales trajectory started with an initial surge and then a gradual decline. \n",
    "    However, the renewed advertising efforts in the latter weeks, combined with consistently strong customer reviews, notably contributed to the revival in sales. \n",
    "    The uptick in website traffic aligns with both increased advertising and stellar reviews, indicating a renewed interest in the product. \n",
    "    The company's decision to reinvest in advertising, combined with the organic growth through positive reviews, underscores the importance of both promotional strategies and product quality in driving sales.\"\"\"\n",
    "  }\n",
    "}\n",
    ")    "
   ]
  },
  {
   "cell_type": "code",
   "execution_count": 45,
   "id": "1cb56c1b-119e-4a14-bd58-bc348ae735e7",
   "metadata": {
    "tags": []
   },
   "outputs": [],
   "source": [
    "data.append({\n",
    "  \"sales data\": {\n",
    "    \"data\": [100, 150, 180, 250, 320, 380, 400],\n",
    "    \"data description\": \"Weekly sales figures for the gadget (in units)\",\n",
    "    \"commentary\": \"Sales of the product demonstrated a robust upward trend throughout the period, nearly quadrupling from the start to the end. This suggests increasing consumer interest and successful sales strategies.\"\n",
    "  },\n",
    "  \"advertising spend\": {\n",
    "    \"data\": [2000, 2100, 2200, 2300, 2500, 2800, 3000],\n",
    "    \"data description\": \"Weekly advertising spend (in $)\",\n",
    "    \"commentary\": \"The advertising budget consistently grew week-by-week, reaching its peak at the end.\"\n",
    "  },\n",
    "  \"website traffic\": {\n",
    "    \"data\": [5000, 5500, 6500, 8000, 10000, 12500, 14000],\n",
    "    \"data description\": \"Weekly website visitors\",\n",
    "    \"commentary\": \"Website traffic surged progressively, more than doubling over the span of the period. This growth indicates heightened consumer interest.\"\n",
    "  },\n",
    "  \"customer reviews\": {\n",
    "    \"data\": [4.8, 4.7, 4.6, 4.5, 4.6, 4.7, 4.7],\n",
    "    \"data description\": \"Average weekly product rating (out of 5)\",\n",
    "    \"commentary\": \"Customer reviews exhibited a minor decline initially but later stabilized. Despite the initial dip, ratings remained relatively high, indicating overall strong customer satisfaction.\"\n",
    "  },\n",
    "  \"overall summary\": {\n",
    "    \"commentary\": \"\"\"The consistent increase in advertising spend appears to have successfully driven traffic to the website, reflected in the sharp rise in visitors. \n",
    "    The combination of increased visibility and generally high customer reviews likely contributed to the impressive sales growth of the new product. \n",
    "    Even with a slight decrease in reviews early on, the consistently high ratings suggest that most customers were pleased with their purchase, aiding in word-of-mouth promotion and further boosting sales. \n",
    "    The synergy between advertising, website traffic, positive reviews, and sales strategy showcases a well-executed product launch.\"\"\"\n",
    "  }\n",
    "}\n",
    ")"
   ]
  },
  {
   "cell_type": "code",
   "execution_count": 22,
   "id": "00c3792c-3ba8-441a-a9b3-f35090f5d8fc",
   "metadata": {
    "tags": []
   },
   "outputs": [],
   "source": [
    "to_inference = {\n",
    "  \"sales data\": {\n",
    "    \"data\": [250, 400, 550, 650, 600, 620, 630],\n",
    "    \"data description\": \"Weekly sales figures for the product (in units)\",\n",
    "    \"commentary\": \"The product saw a steady rise in sales, peaking in the fourth week. Post that, sales figures remained relatively consistent, indicating a steady interest after the initial growth phase.\"\n",
    "  },\n",
    "  \"advertising spend\": {\n",
    "    \"data\": [10000, 12000, 11000, 10500, 10000, 9500, 9000],\n",
    "    \"data description\": \"Weekly advertising spend (in $)\",\n",
    "    \"commentary\": \"The company began slightly increasing its advertising budget in the second week. As the weeks progressed, there was a modest reduction in advertising spend, possibly due to the product gaining traction and relying more on organic reach.\"\n",
    "  },\n",
    "  \"website traffic\": {\n",
    "    \"data\": [15000, 20000, 23000, 25000, 24500, 24000, 23500],\n",
    "    \"data description\": \"Weekly website visitors\",\n",
    "    \"commentary\": \"The website witnessed an influx of visitors that peaked around the middle of the period. Afterward, the traffic stabilized, indicating consistent online engagement and interest.\"\n",
    "  },\n",
    "  \"customer reviews\": {\n",
    "    \"data\": [4.0, 4.2, 4.5, 4.6, 4.6, 4.7, 4.7],\n",
    "    \"data description\": \"Average weekly product rating (out of 5)\",\n",
    "    \"commentary\": \"Initial reviews were positive but improved over time, suggesting that users became more satisfied as they became accustomed to the product or as possible initial issues were addressed.\"\n",
    "  },\n",
    "    #\"overall summary\": {\n",
    "    #  \"commentary\": \"\"\"The company's product experienced favorable market reception, as reflected in its escalating sales. \n",
    "    #  The initial aggressive advertising strategy likely played a role in creating awareness, but as word spread and reviews improved, sales maintained momentum even as advertising spend was slightly curtailed. \n",
    "    #  The stable website traffic in the latter half suggests sustained interest in the product, while consistently improving customer reviews indicate growing user satisfaction and possibly effective post-sale support. \n",
    "    #  The combination of strategic advertising, product quality, and positive customer experience seems to be driving the product's success.\"\"\"\n",
    "    #}\n",
    "}"
   ]
  },
  {
   "cell_type": "code",
   "execution_count": null,
   "id": "2847da01-9bc2-4607-af8d-7050559aefdb",
   "metadata": {},
   "outputs": [],
   "source": [
    "######################################################################################\n",
    "#\n",
    "# model and parameter setup\n",
    "#\n",
    "######################################################################################"
   ]
  },
  {
   "cell_type": "code",
   "execution_count": 4,
   "id": "424ee9c0-006d-42c2-b3ad-725c72214c3f",
   "metadata": {
    "tags": []
   },
   "outputs": [],
   "source": [
    "vertexai.init(project = PROJECT_ID, location = REGION)"
   ]
  },
  {
   "cell_type": "code",
   "execution_count": 6,
   "id": "b8c811bd-05a7-4004-8da0-07802bf87727",
   "metadata": {
    "tags": []
   },
   "outputs": [],
   "source": [
    "# define the LLM\n",
    "model_name = \"gemini-1.5-pro-001\" # \"gemini-1.5-flash-preview-0514\""
   ]
  },
  {
   "cell_type": "code",
   "execution_count": 7,
   "id": "82e1699c-7b73-4d0a-9f7f-090b5dcf6969",
   "metadata": {
    "tags": []
   },
   "outputs": [],
   "source": [
    "# system instruction\n",
    "system_instruction = \"You are an expert business analyst and data storyteller in the healthcare supply chain industry.\""
   ]
  },
  {
   "cell_type": "code",
   "execution_count": 8,
   "id": "fa79e015-fe8d-473e-b488-8365f3404a63",
   "metadata": {
    "tags": []
   },
   "outputs": [],
   "source": [
    "model = GenerativeModel(model_name\n",
    "                        #, tools=tools\n",
    "                        , system_instruction = [system_instruction]\n",
    "                           )"
   ]
  },
  {
   "cell_type": "code",
   "execution_count": 24,
   "id": "af985333-c7bf-462e-b6ab-4e5b446d812e",
   "metadata": {
    "tags": []
   },
   "outputs": [],
   "source": [
    "context = \"\"\"Use the following information on sales data, advertising spend, website traffic, \n",
    "and customer reviews to generate an overall summary of the business trends.\"\"\".replace(\"\\n\", \" \") + \"\\n\""
   ]
  },
  {
   "cell_type": "code",
   "execution_count": null,
   "id": "0b044af6-2042-42e5-92ee-b6db1e905892",
   "metadata": {
    "tags": []
   },
   "outputs": [],
   "source": [
    "examples = \"Here are some examples\" + \"\\n\"\n",
    "for i in data:\n",
    "    examples += f\"<EXAMPLE>{json.dumps(i)}</EXAMPLE>\" + \"\\n\"\n",
    "print(examples)"
   ]
  },
  {
   "cell_type": "code",
   "execution_count": 29,
   "id": "fff0b703-cb41-4307-8396-a5c6877ad3ec",
   "metadata": {
    "tags": []
   },
   "outputs": [],
   "source": [
    "instructions = \"\"\"Now it's your turn.  Generate an overall summary like is done in the examples\"\"\".replace(\"\\n\", \" \")"
   ]
  },
  {
   "cell_type": "code",
   "execution_count": null,
   "id": "d01a1cae-8169-4b6d-bc3a-d728ca9b0555",
   "metadata": {
    "tags": []
   },
   "outputs": [],
   "source": [
    "prompt = f\"\"\"<CONTEXT>{context}</CONTEXT>\n",
    "\n",
    "<EXAMPLES>{examples}</EXAMPLES>\n",
    "\n",
    "<INSTRUCTIONS>{instructions}</INSTRUCTIONS>\n",
    "\n",
    "{to_inference}\n",
    "\"\"\"\n",
    "\n",
    "print(prompt)"
   ]
  },
  {
   "cell_type": "code",
   "execution_count": 31,
   "id": "20cab828-4152-4935-97e4-9e991909778e",
   "metadata": {
    "tags": []
   },
   "outputs": [],
   "source": [
    "######################################################################################\n",
    "#\n",
    "# summary of summaries\n",
    "#\n",
    "######################################################################################"
   ]
  },
  {
   "cell_type": "code",
   "execution_count": 32,
   "id": "079c4a2d-886a-42f8-a748-814859a93b2e",
   "metadata": {
    "tags": []
   },
   "outputs": [
    {
     "name": "stdout",
     "output_type": "stream",
     "text": [
      "{'overall summary': {'commentary': 'The product experienced a period of consistent growth, with sales steadily increasing and peaking in the fourth week. This growth coincides with a period of increased advertising spending, suggesting that the marketing efforts were successful in driving early adoption. \\n    As the advertising spend slightly decreased, sales stabilized at a relatively high level, indicating that the product had gained traction and was likely benefiting from organic reach and positive word-of-mouth. \\n    Website traffic mirrors this trend, peaking around the same time as sales and subsequently plateauing. This suggests continued interest and engagement with the product online. \\n    Furthermore, the upward trend in customer reviews, starting positive and steadily improving, reinforces the notion that customer satisfaction grew over time. This could be attributed to users becoming more familiar with the product or the company addressing initial feedback and concerns. \\n    Overall, the data paints a positive picture of a successful product launch and growth phase, transitioning into a period of sustained interest and customer satisfaction.'}}\n",
      "\n"
     ]
    }
   ],
   "source": [
    "# start the chat\n",
    "chat = model.start_chat()\n",
    "r = chat.send_message([prompt]\n",
    "                      , generation_config=generation_config\n",
    "                      , safety_settings=safety_settings\n",
    "                     )\n",
    "\n",
    "print(r.candidates[0].content.parts[0].text)"
   ]
  }
 ],
 "metadata": {
  "environment": {
   "kernel": "conda-base-py",
   "name": "workbench-notebooks.m120",
   "type": "gcloud",
   "uri": "us-docker.pkg.dev/deeplearning-platform-release/gcr.io/workbench-notebooks:m120"
  },
  "kernelspec": {
   "display_name": "Python 3 (ipykernel) (Local) (Local)",
   "language": "python",
   "name": "conda-base-py"
  },
  "language_info": {
   "codemirror_mode": {
    "name": "ipython",
    "version": 3
   },
   "file_extension": ".py",
   "mimetype": "text/x-python",
   "name": "python",
   "nbconvert_exporter": "python",
   "pygments_lexer": "ipython3",
   "version": "3.10.14"
  }
 },
 "nbformat": 4,
 "nbformat_minor": 5
}
