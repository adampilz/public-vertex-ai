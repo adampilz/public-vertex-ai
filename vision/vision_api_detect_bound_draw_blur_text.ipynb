{
 "cells": [
  {
   "cell_type": "code",
   "execution_count": null,
   "id": "fe0989b2-d644-4762-bf2d-7af8e903c42e",
   "metadata": {},
   "outputs": [],
   "source": []
  },
  {
   "cell_type": "code",
   "execution_count": 1,
   "id": "938889f1-1cd6-43b1-b205-a88263c5f0dc",
   "metadata": {
    "tags": []
   },
   "outputs": [],
   "source": [
    "# imports\n",
    "from google.cloud import vision\n",
    "from PIL import Image, ImageDraw, ImageFont, ImageFilter"
   ]
  },
  {
   "cell_type": "code",
   "execution_count": 6,
   "id": "bfe074b4-7b08-4272-8cdd-090b4ce7e9d5",
   "metadata": {
    "tags": []
   },
   "outputs": [],
   "source": [
    "def detect_text(path):\n",
    "    \"\"\"Detects text in the file.\"\"\"\n",
    "    from google.cloud import vision\n",
    "\n",
    "    client = vision.ImageAnnotatorClient()\n",
    "\n",
    "    with open(path, \"rb\") as image_file:\n",
    "        content = image_file.read()\n",
    "\n",
    "    image = vision.Image(content=content)\n",
    "    \n",
    "    items = list()\n",
    "\n",
    "    response = client.text_detection(image=image)\n",
    "    texts = response.text_annotations\n",
    "\n",
    "    for text in texts:\n",
    "        v = list()\n",
    "        for vertex in text.bounding_poly.vertices:\n",
    "            v.append({\"x\": vertex.x, \"y\": vertex.y})\n",
    "        items.append({\"label\": text.description, \"vertices\": v})\n",
    "\n",
    "    if response.error.message:\n",
    "        raise Exception(\n",
    "            \"{}\\nFor more info on error messages, check: \"\n",
    "            \"https://cloud.google.com/apis/design/errors\".format(response.error.message)\n",
    "        )\n",
    "    return items\n",
    "\n",
    "def is_box_contained(box1, box2):\n",
    "    \"\"\"\n",
    "    Check if box1 is contained within box2.\n",
    "    \n",
    "    Args:\n",
    "    - box1: List of vertices (dictionaries with 'x' and 'y' coordinates) for box1.\n",
    "    - box2: List of vertices for box2.\n",
    "    \n",
    "    Returns:\n",
    "    - True if box1 is fully contained within box2, False otherwise.\n",
    "    \"\"\"\n",
    "    x1_min = min(v['x'] for v in box1)\n",
    "    y1_min = min(v['y'] for v in box1)\n",
    "    x1_max = max(v['x'] for v in box1)\n",
    "    y1_max = max(v['y'] for v in box1)\n",
    "\n",
    "    x2_min = min(v['x'] for v in box2)\n",
    "    y2_min = min(v['y'] for v in box2)\n",
    "    x2_max = max(v['x'] for v in box2)\n",
    "    y2_max = max(v['y'] for v in box2)\n",
    "\n",
    "    # Check if all corners of box1 are within the bounds of box2\n",
    "    return (x1_min >= x2_min and x1_max <= x2_max and y1_min >= y2_min and y1_max <= y2_max)\n",
    "\n",
    "def draw_bounding_boxes(image_path, bounding_boxes, output_path):\n",
    "    \"\"\"\n",
    "    Draws bounding boxes with labels on an image, skipping larger boxes that contain smaller ones.\n",
    "    \n",
    "    Args:\n",
    "    - image_path: Path to the image file.\n",
    "    - bounding_boxes: List of dictionaries containing 'label' and 'vertices'.\n",
    "                      The 'vertices' should be in pixel coordinates.\n",
    "    - output_path: Path to save the modified image.\n",
    "    \"\"\"\n",
    "    # Open the image file\n",
    "    image = Image.open(image_path)\n",
    "    draw = ImageDraw.Draw(image)\n",
    "    \n",
    "    # Optional: Load a font (you can use a default font if PIL doesn't have a custom font)\n",
    "    try:\n",
    "        font = ImageFont.truetype(\"arial.ttf\", 20)\n",
    "    except IOError:\n",
    "        font = ImageFont.load_default()\n",
    "    \n",
    "    # List to store boxes that are not large containers\n",
    "    boxes_to_draw = []\n",
    "\n",
    "    # Loop through each box\n",
    "    for i, box in enumerate(bounding_boxes):\n",
    "        is_container = False\n",
    "        vertices = box['vertices']\n",
    "        \n",
    "        # Check if the current box contains any other smaller box\n",
    "        for j, other_box in enumerate(bounding_boxes):\n",
    "            if i != j and is_box_contained(other_box['vertices'], vertices):\n",
    "                # If another box is contained within this one, mark this box as a container\n",
    "                is_container = True\n",
    "                break\n",
    "        \n",
    "        # If the box is not a container for other boxes, we keep it for drawing\n",
    "        if not is_container:\n",
    "            boxes_to_draw.append(box)\n",
    "    \n",
    "    # Now draw only the non-container boxes\n",
    "    for box in boxes_to_draw:\n",
    "        label = box['label']\n",
    "        vertices = box['vertices']\n",
    "        \n",
    "        # Draw the box\n",
    "        points = [(v['x'], v['y']) for v in vertices]\n",
    "        draw.polygon(points, outline=\"red\", width=3)\n",
    "        \n",
    "        # Get the top-left point for the label\n",
    "        top_left = points[0]\n",
    "        \n",
    "        # Draw the label in the top-left corner of the bounding box\n",
    "        draw.text(top_left, label, fill=\"red\", font=font)\n",
    "    \n",
    "    # Save the modified image\n",
    "    image.save(output_path)\n",
    "    print(f\"Image saved to: {output_path}\")\n",
    "\n",
    "def blur_bounding_boxes(image_path, bounding_boxes, output_path):\n",
    "    \"\"\"\n",
    "    Blurs regions inside bounding boxes on an image, skipping larger boxes that contain smaller ones.\n",
    "    \n",
    "    Args:\n",
    "    - image_path: Path to the image file.\n",
    "    - bounding_boxes: List of dictionaries containing 'label' and 'vertices'.\n",
    "                      The 'vertices' should be in pixel coordinates.\n",
    "    - output_path: Path to save the modified image.\n",
    "    \"\"\"\n",
    "    # Open the image file\n",
    "    image = Image.open(image_path)\n",
    "    \n",
    "    # Filter out only the smaller boxes (not the larger containers)\n",
    "    boxes_to_blur = []\n",
    "    \n",
    "    # Loop through each box and check if it is contained within another box\n",
    "    for i, box in enumerate(bounding_boxes):\n",
    "        is_container = False\n",
    "        vertices = box['vertices']\n",
    "        \n",
    "        for j, other_box in enumerate(bounding_boxes):\n",
    "            if i != j and is_box_contained(other_box['vertices'], vertices):\n",
    "                # If another box is contained within this box, mark this box as a container\n",
    "                is_container = True\n",
    "                break\n",
    "        \n",
    "        # If the box is not a container, add it to the list for blurring\n",
    "        if not is_container:\n",
    "            boxes_to_blur.append(box)\n",
    "    \n",
    "    # Apply blur to the non-container boxes\n",
    "    for box in boxes_to_blur:\n",
    "        vertices = box['vertices']\n",
    "        \n",
    "        # Calculate the bounding box coordinates\n",
    "        x_min = min(v['x'] for v in vertices)\n",
    "        y_min = min(v['y'] for v in vertices)\n",
    "        x_max = max(v['x'] for v in vertices)\n",
    "        y_max = max(v['y'] for v in vertices)\n",
    "        \n",
    "        # Crop the region to blur\n",
    "        region_to_blur = image.crop((x_min, y_min, x_max, y_max))\n",
    "        \n",
    "        # Apply the blur filter to the region\n",
    "        blurred_region = region_to_blur.filter(ImageFilter.GaussianBlur(radius=10))\n",
    "        \n",
    "        # Paste the blurred region back into the image\n",
    "        image.paste(blurred_region, (x_min, y_min, x_max, y_max))\n",
    "    \n",
    "    # Save the modified image\n",
    "    image.save(output_path)\n",
    "    print(f\"Blurred image saved to: {output_path}\")"
   ]
  },
  {
   "cell_type": "code",
   "execution_count": 7,
   "id": "ae41832c-dbe4-46d4-a09e-be8071443c56",
   "metadata": {
    "tags": []
   },
   "outputs": [],
   "source": [
    "#######################################################\n",
    "# detect the text boxes\n",
    "#######################################################\n",
    "image_path = \"doorstep_2.png\"\n",
    "bounding_boxes = detect_text(image_path)"
   ]
  },
  {
   "cell_type": "code",
   "execution_count": 8,
   "id": "dbed8bfa-09ef-40b7-b203-8425aa0b6c14",
   "metadata": {
    "tags": []
   },
   "outputs": [
    {
     "name": "stdout",
     "output_type": "stream",
     "text": [
      "Image saved to: output_without_container_boxes.png\n"
     ]
    }
   ],
   "source": [
    "#######################################################\n",
    "# draws bounding boxes\n",
    "#######################################################\n",
    "# Path to save the modified image\n",
    "output_path = \"output_without_container_boxes.png\"\n",
    "\n",
    "# Draw bounding boxes with labels and save the image\n",
    "draw_bounding_boxes(image_path, bounding_boxes, output_path)"
   ]
  },
  {
   "cell_type": "code",
   "execution_count": 9,
   "id": "38b7d5de-865a-4d3a-8ad2-9ae8bb172356",
   "metadata": {
    "tags": []
   },
   "outputs": [
    {
     "name": "stdout",
     "output_type": "stream",
     "text": [
      "Blurred image saved to: blurred_output.png\n"
     ]
    }
   ],
   "source": [
    "#######################################################\n",
    "# blurs\n",
    "#######################################################\n",
    "# Path to save the modified image\n",
    "output_path = \"blurred_output.png\"\n",
    "\n",
    "# Blur the regions inside the bounding boxes\n",
    "blur_bounding_boxes(image_path, bounding_boxes, output_path)"
   ]
  },
  {
   "cell_type": "code",
   "execution_count": null,
   "id": "1d7f0b74-083f-406a-9e84-45926ef7d15f",
   "metadata": {},
   "outputs": [],
   "source": []
  }
 ],
 "metadata": {
  "environment": {
   "kernel": "conda-base-py",
   "name": "workbench-notebooks.m120",
   "type": "gcloud",
   "uri": "us-docker.pkg.dev/deeplearning-platform-release/gcr.io/workbench-notebooks:m120"
  },
  "kernelspec": {
   "display_name": "Python 3 (ipykernel) (Local) (Local)",
   "language": "python",
   "name": "conda-base-py"
  },
  "language_info": {
   "codemirror_mode": {
    "name": "ipython",
    "version": 3
   },
   "file_extension": ".py",
   "mimetype": "text/x-python",
   "name": "python",
   "nbconvert_exporter": "python",
   "pygments_lexer": "ipython3",
   "version": "3.10.14"
  }
 },
 "nbformat": 4,
 "nbformat_minor": 5
}
