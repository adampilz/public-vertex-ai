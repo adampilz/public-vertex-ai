{
 "cells": [
  {
   "cell_type": "code",
   "execution_count": null,
   "id": "220ef2a0-6d06-44be-a9a1-99cc64c613d3",
   "metadata": {},
   "outputs": [],
   "source": []
  },
  {
   "cell_type": "code",
   "execution_count": null,
   "id": "61b86782-f433-45f4-a37c-221bd950aceb",
   "metadata": {},
   "outputs": [],
   "source": [
    "# only need to run this the first time you use the notebook\n",
    "! pip install -U -q --user google-cloud-vision\n",
    "# must restart kernel after running this"
   ]
  },
  {
   "cell_type": "code",
   "execution_count": 1,
   "id": "9a4e63fe-5ce4-4308-b87b-1221ba12b076",
   "metadata": {
    "tags": []
   },
   "outputs": [],
   "source": [
    "# imports\n",
    "from google.cloud import vision\n",
    "from PIL import Image, ImageDraw, ImageFont"
   ]
  },
  {
   "cell_type": "code",
   "execution_count": 6,
   "id": "4c488d99-668e-4f68-9db8-59618a3d58c5",
   "metadata": {
    "tags": []
   },
   "outputs": [],
   "source": [
    "def localize_objects(path):\n",
    "    \"\"\"Localize objects in the local image.\n",
    "\n",
    "    Args:\n",
    "    path: The path to the local file.\n",
    "    \"\"\"\n",
    "    from google.cloud import vision\n",
    "\n",
    "    client = vision.ImageAnnotatorClient()\n",
    "\n",
    "    with open(path, \"rb\") as image_file:\n",
    "        content = image_file.read()\n",
    "    image = vision.Image(content=content)\n",
    "    \n",
    "    items = list()\n",
    "\n",
    "    objects = client.object_localization(image=image).localized_object_annotations\n",
    "\n",
    "    print(f\"Number of objects found: {len(objects)}\")\n",
    "    for object_ in objects:\n",
    "        print(f\"\\n{object_.name} (confidence: {object_.score})\")\n",
    "        v = list()\n",
    "        for vertex in object_.bounding_poly.normalized_vertices:\n",
    "            v.append({\"x\": vertex.x, \"y\": vertex.y})\n",
    "            print(f\" - ({vertex.x}, {vertex.y})\")\n",
    "        items.append({\"label\": object_.name, \"vertices\": v})\n",
    "    return items\n",
    "    \n",
    "def draw_bounding_boxes(image_path, bounding_boxes):\n",
    "    \"\"\"\n",
    "    Draws bounding boxes with labels on an image.\n",
    "    \n",
    "    Args:\n",
    "    - image_path: Path to the image file.\n",
    "    - bounding_boxes: List of dictionaries containing 'label' and 'vertices'.\n",
    "                      The 'vertices' should be normalized coordinates (0 to 1).\n",
    "    \"\"\"\n",
    "    # Open the image file\n",
    "    image = Image.open(image_path)\n",
    "    draw = ImageDraw.Draw(image)\n",
    "    \n",
    "    # Image dimensions\n",
    "    img_width, img_height = image.size\n",
    "    \n",
    "    # Optional: Load a font (you can use a default font if PIL doesn't have a custom font)\n",
    "    try:\n",
    "        font = ImageFont.truetype(\"arial.ttf\", 20)\n",
    "    except IOError:\n",
    "        font = ImageFont.load_default()\n",
    "    \n",
    "    # Loop through bounding boxes\n",
    "    for box in bounding_boxes:\n",
    "        label = box['label']\n",
    "        vertices = box['vertices']\n",
    "        \n",
    "        # Convert normalized coordinates to actual image coordinates\n",
    "        points = [(v['x'] * img_width, v['y'] * img_height) for v in vertices]\n",
    "        \n",
    "        # Draw the bounding box\n",
    "        draw.polygon(points, outline=\"red\", width=3)\n",
    "        \n",
    "        # Get the top-left point for the label\n",
    "        top_left = points[0]\n",
    "        \n",
    "        # Draw the label in the top-left corner of the bounding box\n",
    "        draw.text(top_left, label, fill=\"red\", font=font)\n",
    "    \n",
    "    # Save or show the modified image\n",
    "    output_file = \"output.png\"\n",
    "    image.save(output_file) #to save it instead of showing it\n",
    "    print(f\"Image save to: {output_file}\")"
   ]
  },
  {
   "cell_type": "code",
   "execution_count": 7,
   "id": "cd686740-cd70-48a9-bb5f-d09f51ef0561",
   "metadata": {
    "tags": []
   },
   "outputs": [
    {
     "name": "stdout",
     "output_type": "stream",
     "text": [
      "Number of objects found: 3\n",
      "\n",
      "Hat (confidence: 0.942505955696106)\n",
      " - (0.53515625, 0.1455078125)\n",
      " - (0.98046875, 0.1455078125)\n",
      " - (0.98046875, 0.51171875)\n",
      " - (0.53515625, 0.51171875)\n",
      "\n",
      "Top (confidence: 0.8679339289665222)\n",
      " - (0.2333984375, 0.1494140625)\n",
      " - (0.43359375, 0.1494140625)\n",
      " - (0.43359375, 0.62109375)\n",
      " - (0.2333984375, 0.62109375)\n",
      "\n",
      "Top (confidence: 0.7445529103279114)\n",
      " - (0.078125, 0.04345703125)\n",
      " - (0.271484375, 0.04345703125)\n",
      " - (0.271484375, 0.5078125)\n",
      " - (0.078125, 0.5078125)\n",
      "Image save to: output.png\n"
     ]
    }
   ],
   "source": [
    "image_path = \"pic_of_items.png\"\n",
    "bounding_boxes = localize_objects(image_path)\n",
    "draw_bounding_boxes(image_path, bounding_boxes)"
   ]
  },
  {
   "cell_type": "code",
   "execution_count": null,
   "id": "31168f7d-1aeb-4233-958a-491df1f4981f",
   "metadata": {},
   "outputs": [],
   "source": []
  }
 ],
 "metadata": {
  "environment": {
   "kernel": "conda-base-py",
   "name": "workbench-notebooks.m120",
   "type": "gcloud",
   "uri": "us-docker.pkg.dev/deeplearning-platform-release/gcr.io/workbench-notebooks:m120"
  },
  "kernelspec": {
   "display_name": "Python 3 (ipykernel) (Local) (Local)",
   "language": "python",
   "name": "conda-base-py"
  },
  "language_info": {
   "codemirror_mode": {
    "name": "ipython",
    "version": 3
   },
   "file_extension": ".py",
   "mimetype": "text/x-python",
   "name": "python",
   "nbconvert_exporter": "python",
   "pygments_lexer": "ipython3",
   "version": "3.10.14"
  }
 },
 "nbformat": 4,
 "nbformat_minor": 5
}
