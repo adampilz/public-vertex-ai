{
 "cells": [
  {
   "cell_type": "code",
   "execution_count": null,
   "id": "dd0ecf01-18b7-4752-a5e3-20daf35142ab",
   "metadata": {},
   "outputs": [],
   "source": []
  },
  {
   "cell_type": "code",
   "execution_count": null,
   "id": "fff80a83-408a-4780-a3ae-0b8b0fbc39ff",
   "metadata": {},
   "outputs": [],
   "source": [
    "#####################################################################\n",
    "#\n",
    "#    Google Cloud prebuilt containers for training and prediction\n",
    "#\n",
    "#####################################################################"
   ]
  },
  {
   "cell_type": "code",
   "execution_count": 1,
   "id": "ccfba794-e7c9-41c5-aa84-9feb42ec8cba",
   "metadata": {},
   "outputs": [
    {
     "name": "stdout",
     "output_type": "stream",
     "text": [
      "Fri Dec 23 07:11:30 UTC 2022\n"
     ]
    }
   ],
   "source": [
    "! date"
   ]
  },
  {
   "cell_type": "code",
   "execution_count": 2,
   "id": "ba01f446-6247-4c50-ae93-874498bc6ecb",
   "metadata": {},
   "outputs": [
    {
     "name": "stdout",
     "output_type": "stream",
     "text": [
      "Listing items under project vertex-ai, location us, repository training.\n",
      "\n",
      "┌──────────────────────────────────────────────────────────────────────────────────────────────────────────────────────┐\n",
      "│                                                 Available Containers                                                 │\n",
      "├────────────────────────────────────────────────────────────┬─────────────┬─────────────────────┬─────────────────────┤\n",
      "│                           IMAGE                            │     TAGS    │     CREATE_TIME     │     UPDATE_TIME     │\n",
      "├────────────────────────────────────────────────────────────┼─────────────┼─────────────────────┼─────────────────────┤\n",
      "│ us-docker.pkg.dev/vertex-ai/training/pytorch-cpu.1-4       │ latest      │ 2022-09-21T00:05:36 │ 2022-09-21T00:05:36 │\n",
      "│ us-docker.pkg.dev/vertex-ai/training/pytorch-gpu.1-10      │ latest, m88 │ 2022-03-17T19:04:37 │ 2022-03-17T19:04:41 │\n",
      "│ us-docker.pkg.dev/vertex-ai/training/pytorch-gpu.1-11      │ latest, m91 │ 2022-04-04T09:16:03 │ 2022-04-04T09:16:07 │\n",
      "│ us-docker.pkg.dev/vertex-ai/training/pytorch-gpu.1-4       │ latest      │ 2022-09-21T00:07:56 │ 2022-09-21T00:07:56 │\n",
      "│ us-docker.pkg.dev/vertex-ai/training/pytorch-gpu.1-6       │ latest      │ 2022-09-21T00:09:03 │ 2022-09-21T00:09:03 │\n",
      "│ us-docker.pkg.dev/vertex-ai/training/pytorch-gpu.1-7       │ latest      │ 2022-09-21T00:09:59 │ 2022-09-21T00:09:59 │\n",
      "│ us-docker.pkg.dev/vertex-ai/training/pytorch-gpu.1-9       │ latest, m82 │ 2022-03-17T18:19:21 │ 2022-03-17T18:19:26 │\n",
      "│ us-docker.pkg.dev/vertex-ai/training/pytorch-xla.1-10      │ latest, m88 │ 2022-03-17T18:56:32 │ 2022-03-17T19:04:39 │\n",
      "│ us-docker.pkg.dev/vertex-ai/training/pytorch-xla.1-11      │ latest, m91 │ 2022-04-04T09:10:15 │ 2022-04-04T09:16:05 │\n",
      "│ us-docker.pkg.dev/vertex-ai/training/pytorch-xla.1-6       │ latest      │ 2022-09-21T00:06:37 │ 2022-09-21T00:06:37 │\n",
      "│ us-docker.pkg.dev/vertex-ai/training/pytorch-xla.1-7       │ latest      │ 2022-09-21T00:07:00 │ 2022-09-21T00:07:00 │\n",
      "│ us-docker.pkg.dev/vertex-ai/training/pytorch-xla.1-9       │ latest, m82 │ 2022-03-17T18:18:36 │ 2022-03-17T18:19:23 │\n",
      "│ us-docker.pkg.dev/vertex-ai/training/scikit-learn-cpu.0-23 │ latest      │ 2021-05-11T01:54:11 │ 2021-05-11T01:54:11 │\n",
      "│ us-docker.pkg.dev/vertex-ai/training/tf-cpu.1-15           │ latest      │ 2022-09-21T00:03:43 │ 2022-09-21T00:03:43 │\n",
      "│ us-docker.pkg.dev/vertex-ai/training/tf-cpu.2-1            │ latest      │ 2022-09-21T00:04:26 │ 2022-09-21T00:04:26 │\n",
      "│ us-docker.pkg.dev/vertex-ai/training/tf-cpu.2-2            │ latest      │ 2022-09-21T00:06:24 │ 2022-09-21T00:06:24 │\n",
      "│ us-docker.pkg.dev/vertex-ai/training/tf-cpu.2-3            │ latest      │ 2022-09-21T00:06:27 │ 2022-09-21T00:06:27 │\n",
      "│ us-docker.pkg.dev/vertex-ai/training/tf-cpu.2-4            │ latest      │ 2022-09-21T00:07:06 │ 2022-09-21T00:07:06 │\n",
      "│ us-docker.pkg.dev/vertex-ai/training/tf-cpu.2-5            │ latest, m73 │ 2021-07-21T22:41:16 │ 2021-07-21T22:46:57 │\n",
      "│ us-docker.pkg.dev/vertex-ai/training/tf-cpu.2-6            │ latest, m77 │ 2021-08-19T01:51:30 │ 2021-08-19T01:56:55 │\n",
      "│ us-docker.pkg.dev/vertex-ai/training/tf-cpu.2-7            │ latest, m90 │ 2022-03-14T23:58:33 │ 2022-03-15T00:03:10 │\n",
      "│ us-docker.pkg.dev/vertex-ai/training/tf-cpu.2-8            │ latest, m92 │ 2022-06-15T20:40:26 │ 2022-06-15T20:44:45 │\n",
      "│ us-docker.pkg.dev/vertex-ai/training/tf-cpu.2-9            │ latest, m92 │ 2022-06-29T19:38:22 │ 2022-06-29T19:42:44 │\n",
      "│ us-docker.pkg.dev/vertex-ai/training/tf-gpu.1-15           │ latest      │ 2022-09-21T00:06:14 │ 2022-09-21T00:06:14 │\n",
      "│ us-docker.pkg.dev/vertex-ai/training/tf-gpu.2-1            │ latest      │ 2022-09-21T00:07:18 │ 2022-09-21T00:07:18 │\n",
      "│ us-docker.pkg.dev/vertex-ai/training/tf-gpu.2-2            │ latest      │ 2022-09-21T00:08:34 │ 2022-09-21T00:08:34 │\n",
      "│ us-docker.pkg.dev/vertex-ai/training/tf-gpu.2-3            │ latest      │ 2022-09-21T00:09:09 │ 2022-09-21T00:09:09 │\n",
      "│ us-docker.pkg.dev/vertex-ai/training/tf-gpu.2-4            │ latest      │ 2022-09-21T00:10:01 │ 2022-09-21T00:10:01 │\n",
      "│ us-docker.pkg.dev/vertex-ai/training/tf-gpu.2-5            │ latest, m73 │ 2021-07-21T22:46:55 │ 2021-07-21T22:46:58 │\n",
      "│ us-docker.pkg.dev/vertex-ai/training/tf-gpu.2-6            │ latest, m77 │ 2021-08-19T01:56:53 │ 2021-08-19T01:56:57 │\n",
      "│ us-docker.pkg.dev/vertex-ai/training/tf-gpu.2-7            │ latest, m90 │ 2022-03-15T00:03:08 │ 2022-03-15T00:03:12 │\n",
      "│ us-docker.pkg.dev/vertex-ai/training/tf-gpu.2-8            │ latest, m92 │ 2022-06-15T20:44:44 │ 2022-06-15T20:44:46 │\n",
      "│ us-docker.pkg.dev/vertex-ai/training/tf-gpu.2-9            │ latest, m92 │ 2022-06-29T19:42:42 │ 2022-06-29T19:42:46 │\n",
      "│ us-docker.pkg.dev/vertex-ai/training/tf-tpu-pod-base-cp38  │ latest      │ 2022-02-16T22:40:05 │ 2022-02-16T22:40:05 │\n",
      "│ us-docker.pkg.dev/vertex-ai/training/tf-tpu.2-8            │ latest      │ 2022-09-21T00:02:00 │ 2022-09-21T00:02:00 │\n",
      "│ us-docker.pkg.dev/vertex-ai/training/xgboost-cpu.1-1       │ latest      │ 2021-05-11T01:54:18 │ 2021-05-11T01:54:18 │\n",
      "└────────────────────────────────────────────────────────────┴─────────────┴─────────────────────┴─────────────────────┘\n"
     ]
    }
   ],
   "source": [
    "# Prebuilt containers for custom training\n",
    "# https://cloud.google.com/vertex-ai/docs/training/pre-built-containers\n",
    "! gcloud artifacts docker images list us-docker.pkg.dev/vertex-ai/training --include-tags --filter=\"TAGS:latest\" \\\n",
    "    --format=\"table[box,margin=3,title='Available Containers'](IMAGE,TAGS,CREATE_TIME,UPDATE_TIME)\""
   ]
  },
  {
   "cell_type": "code",
   "execution_count": 3,
   "id": "6eb2d8fb-cca6-49d5-89a9-79580deac435",
   "metadata": {},
   "outputs": [
    {
     "name": "stdout",
     "output_type": "stream",
     "text": [
      "Listing items under project vertex-ai, location us, repository prediction.\n",
      "\n",
      "┌─────────────────────────────────────────────────────────────────────────────────────────────────────────────────────────────────────────────────┐\n",
      "│                                                               Available Containers                                                              │\n",
      "├─────────────────────────────────────────────────────────┬───────────────────────────────────────────┬─────────────────────┬─────────────────────┤\n",
      "│                          IMAGE                          │                    TAGS                   │     CREATE_TIME     │     UPDATE_TIME     │\n",
      "├─────────────────────────────────────────────────────────┼───────────────────────────────────────────┼─────────────────────┼─────────────────────┤\n",
      "│ us-docker.pkg.dev/vertex-ai/prediction/pytorch-cpu.1-11 │ dlenvx_build_20221221_2000_RC00, latest   │ 2022-12-22T13:15:03 │ 2022-12-22T13:15:04 │\n",
      "│ us-docker.pkg.dev/vertex-ai/prediction/pytorch-cpu.1-12 │ dlenvx_build_20221221_2000_RC00, latest   │ 2022-12-22T14:01:07 │ 2022-12-22T14:01:09 │\n",
      "│ us-docker.pkg.dev/vertex-ai/prediction/pytorch-gpu.1-11 │ dlenvx_build_20221221_2000_RC00, latest   │ 2022-12-22T13:24:41 │ 2022-12-22T13:24:42 │\n",
      "│ us-docker.pkg.dev/vertex-ai/prediction/pytorch-gpu.1-12 │ dlenvx_build_20221221_2000_RC00, latest   │ 2022-12-22T14:10:11 │ 2022-12-22T14:10:14 │\n",
      "│ us-docker.pkg.dev/vertex-ai/prediction/sklearn-cpu.0-20 │ cmle_op_images_20221222_0210_RC00, latest │ 2022-12-22T10:19:19 │ 2022-12-22T10:19:21 │\n",
      "│ us-docker.pkg.dev/vertex-ai/prediction/sklearn-cpu.0-22 │ cmle_op_images_20221222_0210_RC00, latest │ 2022-12-22T10:20:09 │ 2022-12-22T10:20:11 │\n",
      "│ us-docker.pkg.dev/vertex-ai/prediction/sklearn-cpu.0-23 │ cmle_op_images_20221222_0210_RC00, latest │ 2022-12-22T10:19:23 │ 2022-12-22T10:19:25 │\n",
      "│ us-docker.pkg.dev/vertex-ai/prediction/sklearn-cpu.0-24 │ cmle_op_images_20221222_0210_RC00, latest │ 2022-12-22T10:19:37 │ 2022-12-22T10:19:39 │\n",
      "│ us-docker.pkg.dev/vertex-ai/prediction/sklearn-cpu.1-0  │ dlenvx_build_20221221_2000_RC00, latest   │ 2022-12-22T12:00:02 │ 2022-12-22T12:00:06 │\n",
      "│ us-docker.pkg.dev/vertex-ai/prediction/tf-cpu.1-15      │ cmle_op_images_20221222_0210_RC00, latest │ 2022-12-22T10:20:15 │ 2022-12-22T10:20:16 │\n",
      "│ us-docker.pkg.dev/vertex-ai/prediction/tf-gpu.1-15      │ cmle_op_images_20221222_0210_RC00, latest │ 2022-12-22T10:20:41 │ 2022-12-22T10:20:43 │\n",
      "│ us-docker.pkg.dev/vertex-ai/prediction/tf2-cpu.2-1      │ cmle_op_images_20221222_0210_RC00, latest │ 2022-12-22T10:19:49 │ 2022-12-22T10:19:51 │\n",
      "│ us-docker.pkg.dev/vertex-ai/prediction/tf2-cpu.2-10     │ dlenvx_build_20221221_2000_RC00, latest   │ 2022-12-22T09:40:37 │ 2022-12-22T09:40:39 │\n",
      "│ us-docker.pkg.dev/vertex-ai/prediction/tf2-cpu.2-11     │ dlenvx_build_20221221_2000_RC00, latest   │ 2022-12-22T10:34:29 │ 2022-12-22T10:34:31 │\n",
      "│ us-docker.pkg.dev/vertex-ai/prediction/tf2-cpu.2-2      │ cmle_op_images_20221222_0210_RC00, latest │ 2022-12-22T10:19:54 │ 2022-12-22T10:19:55 │\n",
      "│ us-docker.pkg.dev/vertex-ai/prediction/tf2-cpu.2-3      │ cmle_op_images_20221222_0210_RC00, latest │ 2022-12-22T10:54:03 │ 2022-12-22T10:54:04 │\n",
      "│ us-docker.pkg.dev/vertex-ai/prediction/tf2-cpu.2-4      │ cmle_op_images_20221222_0210_RC00, latest │ 2022-12-22T10:58:38 │ 2022-12-22T10:58:40 │\n",
      "│ us-docker.pkg.dev/vertex-ai/prediction/tf2-cpu.2-5      │ cmle_op_images_20221222_0210_RC00, latest │ 2022-12-22T10:58:46 │ 2022-12-22T10:58:47 │\n",
      "│ us-docker.pkg.dev/vertex-ai/prediction/tf2-cpu.2-6      │ cmle_op_images_20221222_0210_RC00, latest │ 2022-12-22T10:37:41 │ 2022-12-22T10:37:42 │\n",
      "│ us-docker.pkg.dev/vertex-ai/prediction/tf2-cpu.2-7      │ cmle_op_images_20221222_0210_RC00, latest │ 2022-12-22T10:45:41 │ 2022-12-22T10:45:42 │\n",
      "│ us-docker.pkg.dev/vertex-ai/prediction/tf2-cpu.2-8      │ cmle_op_images_20221222_0210_RC00, latest │ 2022-12-22T10:27:46 │ 2022-12-22T10:27:48 │\n",
      "│ us-docker.pkg.dev/vertex-ai/prediction/tf2-cpu.2-9      │ dlenvx_build_20221221_2000_RC00, latest   │ 2022-12-22T08:52:00 │ 2022-12-22T08:52:01 │\n",
      "│ us-docker.pkg.dev/vertex-ai/prediction/tf2-gpu.2-1      │ cmle_op_images_20221222_0210_RC00, latest │ 2022-12-22T10:20:27 │ 2022-12-22T10:20:28 │\n",
      "│ us-docker.pkg.dev/vertex-ai/prediction/tf2-gpu.2-10     │ dlenvx_build_20221221_2000_RC00, latest   │ 2022-12-22T09:41:13 │ 2022-12-22T09:41:15 │\n",
      "│ us-docker.pkg.dev/vertex-ai/prediction/tf2-gpu.2-11     │ dlenvx_build_20221221_2000_RC00, latest   │ 2022-12-22T10:35:03 │ 2022-12-22T10:35:05 │\n",
      "│ us-docker.pkg.dev/vertex-ai/prediction/tf2-gpu.2-2      │ cmle_op_images_20221222_0210_RC00, latest │ 2022-12-22T10:20:23 │ 2022-12-22T10:20:24 │\n",
      "│ us-docker.pkg.dev/vertex-ai/prediction/tf2-gpu.2-3      │ cmle_op_images_20221222_0210_RC00, latest │ 2022-12-22T10:54:39 │ 2022-12-22T10:54:41 │\n",
      "│ us-docker.pkg.dev/vertex-ai/prediction/tf2-gpu.2-4      │ cmle_op_images_20221222_0210_RC00, latest │ 2022-12-22T10:59:16 │ 2022-12-22T10:59:17 │\n",
      "│ us-docker.pkg.dev/vertex-ai/prediction/tf2-gpu.2-5      │ cmle_op_images_20221222_0210_RC00, latest │ 2022-12-22T10:59:36 │ 2022-12-22T10:59:37 │\n",
      "│ us-docker.pkg.dev/vertex-ai/prediction/tf2-gpu.2-6      │ cmle_op_images_20221222_0210_RC00, latest │ 2022-12-22T10:38:34 │ 2022-12-22T10:38:34 │\n",
      "│ us-docker.pkg.dev/vertex-ai/prediction/tf2-gpu.2-7      │ cmle_op_images_20221222_0210_RC00, latest │ 2022-12-22T10:46:26 │ 2022-12-22T10:46:27 │\n",
      "│ us-docker.pkg.dev/vertex-ai/prediction/tf2-gpu.2-8      │ cmle_op_images_20221222_0210_RC00, latest │ 2022-12-22T10:28:19 │ 2022-12-22T10:28:21 │\n",
      "│ us-docker.pkg.dev/vertex-ai/prediction/tf2-gpu.2-9      │ dlenvx_build_20221221_2000_RC00, latest   │ 2022-12-22T08:52:44 │ 2022-12-22T08:52:45 │\n",
      "│ us-docker.pkg.dev/vertex-ai/prediction/xgboost-cpu.0-82 │ cmle_op_images_20221222_0210_RC00, latest │ 2022-12-22T10:27:21 │ 2022-12-22T10:27:22 │\n",
      "│ us-docker.pkg.dev/vertex-ai/prediction/xgboost-cpu.0-90 │ cmle_op_images_20221222_0210_RC00, latest │ 2022-12-22T10:27:46 │ 2022-12-22T10:27:49 │\n",
      "│ us-docker.pkg.dev/vertex-ai/prediction/xgboost-cpu.1-1  │ cmle_op_images_20221222_0210_RC00, latest │ 2022-12-22T10:36:04 │ 2022-12-22T10:36:06 │\n",
      "│ us-docker.pkg.dev/vertex-ai/prediction/xgboost-cpu.1-2  │ cmle_op_images_20221222_0210_RC00, latest │ 2022-12-22T10:52:32 │ 2022-12-22T10:52:34 │\n",
      "│ us-docker.pkg.dev/vertex-ai/prediction/xgboost-cpu.1-3  │ cmle_op_images_20221222_0210_RC00, latest │ 2022-12-22T10:39:53 │ 2022-12-22T10:39:54 │\n",
      "│ us-docker.pkg.dev/vertex-ai/prediction/xgboost-cpu.1-4  │ dlenvx_build_20221221_2000_RC00, latest   │ 2022-12-22T11:07:15 │ 2022-12-22T11:07:17 │\n",
      "│ us-docker.pkg.dev/vertex-ai/prediction/xgboost-cpu.1-5  │ dlenvx_build_20221221_2000_RC00, latest   │ 2022-12-22T11:27:33 │ 2022-12-22T11:27:35 │\n",
      "│ us-docker.pkg.dev/vertex-ai/prediction/xgboost-cpu.1-6  │ dlenvx_build_20221221_2000_RC00, latest   │ 2022-12-22T11:47:32 │ 2022-12-22T11:47:34 │\n",
      "└─────────────────────────────────────────────────────────┴───────────────────────────────────────────┴─────────────────────┴─────────────────────┘\n"
     ]
    }
   ],
   "source": [
    "# Pre-built containers for prediction and explanation\n",
    "# https://cloud.google.com/vertex-ai/docs/predictions/pre-built-containers\n",
    "! gcloud artifacts docker images list us-docker.pkg.dev/vertex-ai/prediction --include-tags --filter=\"TAGS:latest\" \\\n",
    "    --format=\"table[box,margin=3,title='Available Containers'](IMAGE,TAGS,CREATE_TIME,UPDATE_TIME)\""
   ]
  },
  {
   "cell_type": "code",
   "execution_count": null,
   "id": "efa1963a-9130-4f52-a12c-d1a8eeb18257",
   "metadata": {},
   "outputs": [],
   "source": []
  }
 ],
 "metadata": {
  "environment": {
   "kernel": "python3",
   "name": "common-cpu.m102",
   "type": "gcloud",
   "uri": "gcr.io/deeplearning-platform-release/base-cpu:m102"
  },
  "kernelspec": {
   "display_name": "Python 3",
   "language": "python",
   "name": "python3"
  },
  "language_info": {
   "codemirror_mode": {
    "name": "ipython",
    "version": 3
   },
   "file_extension": ".py",
   "mimetype": "text/x-python",
   "name": "python",
   "nbconvert_exporter": "python",
   "pygments_lexer": "ipython3",
   "version": "3.7.12"
  }
 },
 "nbformat": 4,
 "nbformat_minor": 5
}
